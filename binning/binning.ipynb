{
 "cells": [
  {
   "cell_type": "markdown",
   "metadata": {},
   "source": [
    "# SPSS Modelerのデータ分割ノードをPythonで書き換える。ビン化、ランク付け処理\n",
    "\n",
    "\n",
    "■利用データ<BR>\n",
    "ID付POSデータを対象に行います。\n",
    "誰（CUSTID）がいつ（SDATE）何（PRODUCTID、L_CLASS商品大分類、M_CLASS商品中分類）をいくら（SUBTOTAL）購入したかが記録されたID付POSデータを使います。<BR>\n",
    "これを誰（CUSTID）が全部でいくら（SUBTOTAL_sum）購入したかというデータに集計してから使います。\n",
    "    \n",
    "![image.png](https://qiita-image-store.s3.ap-northeast-1.amazonaws.com/0/223763/5ec0d710-963b-a6ae-a88d-d94f1708f818.png)\n"
   ]
  },
  {
   "cell_type": "code",
   "execution_count": 1,
   "metadata": {},
   "outputs": [],
   "source": [
    "!wget https://github.com/hkwd/200611Modeler2Python/raw/master/data/sampletranDEPT4en2019S.csv"
   ]
  },
  {
   "cell_type": "code",
   "execution_count": 2,
   "metadata": {
    "scrolled": true
   },
   "outputs": [
    {
     "name": "stdout",
     "output_type": "stream",
     "text": [
      "CUSTID        int64\n",
      "SDATE        object\n",
      "PRODUCTID     int64\n",
      "L_CLASS      object\n",
      "M_CLASS      object\n",
      "SUBTOTAL      int64\n",
      "dtype: object\n"
     ]
    },
    {
     "data": {
      "text/html": [
       "<div>\n",
       "<style scoped>\n",
       "    .dataframe tbody tr th:only-of-type {\n",
       "        vertical-align: middle;\n",
       "    }\n",
       "\n",
       "    .dataframe tbody tr th {\n",
       "        vertical-align: top;\n",
       "    }\n",
       "\n",
       "    .dataframe thead th {\n",
       "        text-align: right;\n",
       "    }\n",
       "</style>\n",
       "<table border=\"1\" class=\"dataframe\">\n",
       "  <thead>\n",
       "    <tr style=\"text-align: right;\">\n",
       "      <th></th>\n",
       "      <th>CUSTID</th>\n",
       "      <th>SDATE</th>\n",
       "      <th>PRODUCTID</th>\n",
       "      <th>L_CLASS</th>\n",
       "      <th>M_CLASS</th>\n",
       "      <th>SUBTOTAL</th>\n",
       "    </tr>\n",
       "  </thead>\n",
       "  <tbody>\n",
       "    <tr>\n",
       "      <th>0</th>\n",
       "      <td>100001</td>\n",
       "      <td>2019-07-02</td>\n",
       "      <td>9937845</td>\n",
       "      <td>BAG</td>\n",
       "      <td>BAG01</td>\n",
       "      <td>1740</td>\n",
       "    </tr>\n",
       "    <tr>\n",
       "      <th>1</th>\n",
       "      <td>100001</td>\n",
       "      <td>2019-07-09</td>\n",
       "      <td>9903878</td>\n",
       "      <td>BAG</td>\n",
       "      <td>BAG01</td>\n",
       "      <td>3108</td>\n",
       "    </tr>\n",
       "    <tr>\n",
       "      <th>2</th>\n",
       "      <td>100001</td>\n",
       "      <td>2019-08-08</td>\n",
       "      <td>9922209</td>\n",
       "      <td>COSMETICS</td>\n",
       "      <td>COSMETICS03</td>\n",
       "      <td>2888</td>\n",
       "    </tr>\n",
       "    <tr>\n",
       "      <th>3</th>\n",
       "      <td>100001</td>\n",
       "      <td>2019-08-18</td>\n",
       "      <td>9901187</td>\n",
       "      <td>SHOES</td>\n",
       "      <td>SHOES02</td>\n",
       "      <td>2700</td>\n",
       "    </tr>\n",
       "    <tr>\n",
       "      <th>4</th>\n",
       "      <td>100001</td>\n",
       "      <td>2019-08-26</td>\n",
       "      <td>9910507</td>\n",
       "      <td>COSMETICS</td>\n",
       "      <td>COSMETICS03</td>\n",
       "      <td>3385</td>\n",
       "    </tr>\n",
       "    <tr>\n",
       "      <th>...</th>\n",
       "      <td>...</td>\n",
       "      <td>...</td>\n",
       "      <td>...</td>\n",
       "      <td>...</td>\n",
       "      <td>...</td>\n",
       "      <td>...</td>\n",
       "    </tr>\n",
       "    <tr>\n",
       "      <th>28594</th>\n",
       "      <td>105978</td>\n",
       "      <td>2019-03-13</td>\n",
       "      <td>9913446</td>\n",
       "      <td>SHOES</td>\n",
       "      <td>SHOES02</td>\n",
       "      <td>3658</td>\n",
       "    </tr>\n",
       "    <tr>\n",
       "      <th>28595</th>\n",
       "      <td>105978</td>\n",
       "      <td>2019-05-10</td>\n",
       "      <td>9941252</td>\n",
       "      <td>SHOES</td>\n",
       "      <td>SHOES01</td>\n",
       "      <td>14478</td>\n",
       "    </tr>\n",
       "    <tr>\n",
       "      <th>28596</th>\n",
       "      <td>105978</td>\n",
       "      <td>2019-05-10</td>\n",
       "      <td>9905242</td>\n",
       "      <td>SHOES</td>\n",
       "      <td>SHOES02</td>\n",
       "      <td>1665</td>\n",
       "    </tr>\n",
       "    <tr>\n",
       "      <th>28597</th>\n",
       "      <td>105978</td>\n",
       "      <td>2019-09-04</td>\n",
       "      <td>9905242</td>\n",
       "      <td>SHOES</td>\n",
       "      <td>SHOES02</td>\n",
       "      <td>4050</td>\n",
       "    </tr>\n",
       "    <tr>\n",
       "      <th>28598</th>\n",
       "      <td>105978</td>\n",
       "      <td>2019-11-02</td>\n",
       "      <td>9901465</td>\n",
       "      <td>COSMETICS</td>\n",
       "      <td>COSMETICS01</td>\n",
       "      <td>1596</td>\n",
       "    </tr>\n",
       "  </tbody>\n",
       "</table>\n",
       "<p>28599 rows × 6 columns</p>\n",
       "</div>"
      ],
      "text/plain": [
       "       CUSTID       SDATE  PRODUCTID    L_CLASS      M_CLASS  SUBTOTAL\n",
       "0      100001  2019-07-02    9937845        BAG        BAG01      1740\n",
       "1      100001  2019-07-09    9903878        BAG        BAG01      3108\n",
       "2      100001  2019-08-08    9922209  COSMETICS  COSMETICS03      2888\n",
       "3      100001  2019-08-18    9901187      SHOES      SHOES02      2700\n",
       "4      100001  2019-08-26    9910507  COSMETICS  COSMETICS03      3385\n",
       "...       ...         ...        ...        ...          ...       ...\n",
       "28594  105978  2019-03-13    9913446      SHOES      SHOES02      3658\n",
       "28595  105978  2019-05-10    9941252      SHOES      SHOES01     14478\n",
       "28596  105978  2019-05-10    9905242      SHOES      SHOES02      1665\n",
       "28597  105978  2019-09-04    9905242      SHOES      SHOES02      4050\n",
       "28598  105978  2019-11-02    9901465  COSMETICS  COSMETICS01      1596\n",
       "\n",
       "[28599 rows x 6 columns]"
      ]
     },
     "execution_count": 2,
     "metadata": {},
     "output_type": "execute_result"
    }
   ],
   "source": [
    "#データの読み込み\n",
    "import types\n",
    "import pandas as pd\n",
    "\n",
    "pd.options.display.max_rows = 10\n",
    "#print(pd.options.display.max_rows)\n",
    "\n",
    "import pandas as pd\n",
    "df = pd.read_csv('sampletranDEPT4en2019S.csv')\n",
    "print(df.dtypes)\n",
    "df"
   ]
  },
  {
   "cell_type": "code",
   "execution_count": 3,
   "metadata": {
    "scrolled": true
   },
   "outputs": [
    {
     "data": {
      "text/html": [
       "<div>\n",
       "<style scoped>\n",
       "    .dataframe tbody tr th:only-of-type {\n",
       "        vertical-align: middle;\n",
       "    }\n",
       "\n",
       "    .dataframe tbody tr th {\n",
       "        vertical-align: top;\n",
       "    }\n",
       "\n",
       "    .dataframe thead th {\n",
       "        text-align: right;\n",
       "    }\n",
       "</style>\n",
       "<table border=\"1\" class=\"dataframe\">\n",
       "  <thead>\n",
       "    <tr style=\"text-align: right;\">\n",
       "      <th></th>\n",
       "      <th>SUBTOTAL</th>\n",
       "    </tr>\n",
       "    <tr>\n",
       "      <th>CUSTID</th>\n",
       "      <th></th>\n",
       "    </tr>\n",
       "  </thead>\n",
       "  <tbody>\n",
       "    <tr>\n",
       "      <th>100001</th>\n",
       "      <td>44386</td>\n",
       "    </tr>\n",
       "    <tr>\n",
       "      <th>100004</th>\n",
       "      <td>63615</td>\n",
       "    </tr>\n",
       "    <tr>\n",
       "      <th>100006</th>\n",
       "      <td>8200</td>\n",
       "    </tr>\n",
       "    <tr>\n",
       "      <th>100008</th>\n",
       "      <td>24951</td>\n",
       "    </tr>\n",
       "    <tr>\n",
       "      <th>100012</th>\n",
       "      <td>72866</td>\n",
       "    </tr>\n",
       "    <tr>\n",
       "      <th>...</th>\n",
       "      <td>...</td>\n",
       "    </tr>\n",
       "    <tr>\n",
       "      <th>105967</th>\n",
       "      <td>64780</td>\n",
       "    </tr>\n",
       "    <tr>\n",
       "      <th>105970</th>\n",
       "      <td>245616</td>\n",
       "    </tr>\n",
       "    <tr>\n",
       "      <th>105972</th>\n",
       "      <td>38744</td>\n",
       "    </tr>\n",
       "    <tr>\n",
       "      <th>105974</th>\n",
       "      <td>142537</td>\n",
       "    </tr>\n",
       "    <tr>\n",
       "      <th>105978</th>\n",
       "      <td>25447</td>\n",
       "    </tr>\n",
       "  </tbody>\n",
       "</table>\n",
       "<p>2744 rows × 1 columns</p>\n",
       "</div>"
      ],
      "text/plain": [
       "        SUBTOTAL\n",
       "CUSTID          \n",
       "100001     44386\n",
       "100004     63615\n",
       "100006      8200\n",
       "100008     24951\n",
       "100012     72866\n",
       "...          ...\n",
       "105967     64780\n",
       "105970    245616\n",
       "105972     38744\n",
       "105974    142537\n",
       "105978     25447\n",
       "\n",
       "[2744 rows x 1 columns]"
      ]
     },
     "execution_count": 3,
     "metadata": {},
     "output_type": "execute_result"
    }
   ],
   "source": [
    "df_cust_total=df[['CUSTID','SUBTOTAL']].groupby(['CUSTID']).sum()\n",
    "df_cust_total"
   ]
  },
  {
   "cell_type": "markdown",
   "metadata": {},
   "source": [
    "# ① 分位数、デシル分析\n"
   ]
  },
  {
   "cell_type": "code",
   "execution_count": 4,
   "metadata": {
    "scrolled": true
   },
   "outputs": [
    {
     "name": "stdout",
     "output_type": "stream",
     "text": [
      "        SUBTOTAL  DECIL\n",
      "CUSTID                 \n",
      "100001     44386      4\n",
      "100004     63615      3\n",
      "100006      8200      9\n",
      "100008     24951      6\n",
      "100012     72866      2\n",
      "...          ...    ...\n",
      "105967     64780      3\n",
      "105970    245616      1\n",
      "105972     38744      4\n",
      "105974    142537      1\n",
      "105978     25447      6\n",
      "\n",
      "[2744 rows x 2 columns]\n",
      "[  1009.    4924.8   9175.   14156.1  19777.6  27265.   36808.4  49254.\n",
      "  70421.6 112361.1 828844. ]\n"
     ]
    }
   ],
   "source": [
    "#分位数\n",
    "df_cust=df_cust_total.copy()\n",
    "df_cust['DECIL'],decil_bins=pd.qcut(df_cust['SUBTOTAL'],10,labels=False,retbins=True)\n",
    "df_cust['DECIL']=10-df_cust['DECIL']\n",
    "print(df_cust)\n",
    "print(decil_bins)"
   ]
  },
  {
   "cell_type": "markdown",
   "metadata": {},
   "source": [
    "https://www.geeksforgeeks.org/quantile-and-decile-rank-of-a-column-in-pandas-python/"
   ]
  },
  {
   "cell_type": "code",
   "execution_count": 5,
   "metadata": {},
   "outputs": [
    {
     "data": {
      "text/html": [
       "<div>\n",
       "<style scoped>\n",
       "    .dataframe tbody tr th:only-of-type {\n",
       "        vertical-align: middle;\n",
       "    }\n",
       "\n",
       "    .dataframe tbody tr th {\n",
       "        vertical-align: top;\n",
       "    }\n",
       "\n",
       "    .dataframe thead th {\n",
       "        text-align: right;\n",
       "    }\n",
       "</style>\n",
       "<table border=\"1\" class=\"dataframe\">\n",
       "  <thead>\n",
       "    <tr style=\"text-align: right;\">\n",
       "      <th></th>\n",
       "      <th>SUBTOTAL</th>\n",
       "      <th>構成比</th>\n",
       "      <th>累積構成比</th>\n",
       "    </tr>\n",
       "    <tr>\n",
       "      <th>DECIL</th>\n",
       "      <th></th>\n",
       "      <th></th>\n",
       "      <th></th>\n",
       "    </tr>\n",
       "  </thead>\n",
       "  <tbody>\n",
       "    <tr>\n",
       "      <th>1</th>\n",
       "      <td>56247689</td>\n",
       "      <td>0.418456</td>\n",
       "      <td>0.418456</td>\n",
       "    </tr>\n",
       "    <tr>\n",
       "      <th>2</th>\n",
       "      <td>24514673</td>\n",
       "      <td>0.182377</td>\n",
       "      <td>0.600833</td>\n",
       "    </tr>\n",
       "    <tr>\n",
       "      <th>3</th>\n",
       "      <td>16091132</td>\n",
       "      <td>0.119710</td>\n",
       "      <td>0.720544</td>\n",
       "    </tr>\n",
       "    <tr>\n",
       "      <th>4</th>\n",
       "      <td>11770675</td>\n",
       "      <td>0.087568</td>\n",
       "      <td>0.808112</td>\n",
       "    </tr>\n",
       "    <tr>\n",
       "      <th>5</th>\n",
       "      <td>8735820</td>\n",
       "      <td>0.064990</td>\n",
       "      <td>0.873102</td>\n",
       "    </tr>\n",
       "    <tr>\n",
       "      <th>6</th>\n",
       "      <td>6402860</td>\n",
       "      <td>0.047634</td>\n",
       "      <td>0.920736</td>\n",
       "    </tr>\n",
       "    <tr>\n",
       "      <th>7</th>\n",
       "      <td>4660015</td>\n",
       "      <td>0.034668</td>\n",
       "      <td>0.955405</td>\n",
       "    </tr>\n",
       "    <tr>\n",
       "      <th>8</th>\n",
       "      <td>3204628</td>\n",
       "      <td>0.023841</td>\n",
       "      <td>0.979245</td>\n",
       "    </tr>\n",
       "    <tr>\n",
       "      <th>9</th>\n",
       "      <td>1957709</td>\n",
       "      <td>0.014564</td>\n",
       "      <td>0.993810</td>\n",
       "    </tr>\n",
       "    <tr>\n",
       "      <th>10</th>\n",
       "      <td>832068</td>\n",
       "      <td>0.006190</td>\n",
       "      <td>1.000000</td>\n",
       "    </tr>\n",
       "  </tbody>\n",
       "</table>\n",
       "</div>"
      ],
      "text/plain": [
       "       SUBTOTAL       構成比     累積構成比\n",
       "DECIL                              \n",
       "1      56247689  0.418456  0.418456\n",
       "2      24514673  0.182377  0.600833\n",
       "3      16091132  0.119710  0.720544\n",
       "4      11770675  0.087568  0.808112\n",
       "5       8735820  0.064990  0.873102\n",
       "6       6402860  0.047634  0.920736\n",
       "7       4660015  0.034668  0.955405\n",
       "8       3204628  0.023841  0.979245\n",
       "9       1957709  0.014564  0.993810\n",
       "10       832068  0.006190  1.000000"
      ]
     },
     "execution_count": 5,
     "metadata": {},
     "output_type": "execute_result"
    }
   ],
   "source": [
    "#デシルの構成比\n",
    "df_decil=df_cust.groupby('DECIL').sum().sort_index()\n",
    "df_decil['構成比']=df_decil['SUBTOTAL']/df_cust['SUBTOTAL'].sum()\n",
    "df_decil['累積構成比']=df_decil['SUBTOTAL'].cumsum()/df_cust['SUBTOTAL'].sum()\n",
    "df_decil"
   ]
  },
  {
   "cell_type": "markdown",
   "metadata": {},
   "source": [
    "# ②固定幅：ビン数指定　\n"
   ]
  },
  {
   "cell_type": "code",
   "execution_count": 6,
   "metadata": {},
   "outputs": [
    {
     "data": {
      "text/plain": [
       "1009"
      ]
     },
     "execution_count": 6,
     "metadata": {},
     "output_type": "execute_result"
    }
   ],
   "source": [
    "df_cust_total['SUBTOTAL'].min()"
   ]
  },
  {
   "cell_type": "code",
   "execution_count": 7,
   "metadata": {},
   "outputs": [
    {
     "name": "stdout",
     "output_type": "stream",
     "text": [
      "        SUBTOTAL  BIN\n",
      "CUSTID               \n",
      "100001     44386    0\n",
      "100004     63615    0\n",
      "100006      8200    0\n",
      "100008     24951    0\n",
      "100012     72866    0\n",
      "...          ...  ...\n",
      "105967     64780    0\n",
      "105970    245616    2\n",
      "105972     38744    0\n",
      "105974    142537    1\n",
      "105978     25447    0\n",
      "\n",
      "[2744 rows x 2 columns]\n",
      "[   181.165  83792.5   166576.    249359.5   332143.    414926.5\n",
      " 497710.    580493.5   663277.    746060.5   828844.   ]\n"
     ]
    }
   ],
   "source": [
    "#固定幅：ビン数指定\n",
    "df_cust2=df_cust_total.copy()\n",
    "df_cust2['BIN'],fixed_bins=pd.cut(df_cust2['SUBTOTAL'],10,labels=False,retbins=True)\n",
    "print(df_cust2)\n",
    "import numpy as np\n",
    "np.set_printoptions(suppress=True)\n",
    "print(fixed_bins)"
   ]
  },
  {
   "cell_type": "code",
   "execution_count": 8,
   "metadata": {
    "scrolled": true
   },
   "outputs": [
    {
     "data": {
      "text/html": [
       "<div>\n",
       "<style scoped>\n",
       "    .dataframe tbody tr th:only-of-type {\n",
       "        vertical-align: middle;\n",
       "    }\n",
       "\n",
       "    .dataframe tbody tr th {\n",
       "        vertical-align: top;\n",
       "    }\n",
       "\n",
       "    .dataframe thead th {\n",
       "        text-align: right;\n",
       "    }\n",
       "</style>\n",
       "<table border=\"1\" class=\"dataframe\">\n",
       "  <thead>\n",
       "    <tr style=\"text-align: right;\">\n",
       "      <th></th>\n",
       "      <th>COUNT</th>\n",
       "      <th>構成比</th>\n",
       "    </tr>\n",
       "    <tr>\n",
       "      <th>BIN</th>\n",
       "      <th></th>\n",
       "      <th></th>\n",
       "    </tr>\n",
       "  </thead>\n",
       "  <tbody>\n",
       "    <tr>\n",
       "      <th>0</th>\n",
       "      <td>2300</td>\n",
       "      <td>0.838192</td>\n",
       "    </tr>\n",
       "    <tr>\n",
       "      <th>1</th>\n",
       "      <td>322</td>\n",
       "      <td>0.117347</td>\n",
       "    </tr>\n",
       "    <tr>\n",
       "      <th>2</th>\n",
       "      <td>65</td>\n",
       "      <td>0.023688</td>\n",
       "    </tr>\n",
       "    <tr>\n",
       "      <th>3</th>\n",
       "      <td>27</td>\n",
       "      <td>0.009840</td>\n",
       "    </tr>\n",
       "    <tr>\n",
       "      <th>4</th>\n",
       "      <td>12</td>\n",
       "      <td>0.004373</td>\n",
       "    </tr>\n",
       "    <tr>\n",
       "      <th>5</th>\n",
       "      <td>5</td>\n",
       "      <td>0.001822</td>\n",
       "    </tr>\n",
       "    <tr>\n",
       "      <th>6</th>\n",
       "      <td>7</td>\n",
       "      <td>0.002551</td>\n",
       "    </tr>\n",
       "    <tr>\n",
       "      <th>7</th>\n",
       "      <td>1</td>\n",
       "      <td>0.000364</td>\n",
       "    </tr>\n",
       "    <tr>\n",
       "      <th>8</th>\n",
       "      <td>3</td>\n",
       "      <td>0.001093</td>\n",
       "    </tr>\n",
       "    <tr>\n",
       "      <th>9</th>\n",
       "      <td>2</td>\n",
       "      <td>0.000729</td>\n",
       "    </tr>\n",
       "  </tbody>\n",
       "</table>\n",
       "</div>"
      ],
      "text/plain": [
       "     COUNT       構成比\n",
       "BIN                 \n",
       "0     2300  0.838192\n",
       "1      322  0.117347\n",
       "2       65  0.023688\n",
       "3       27  0.009840\n",
       "4       12  0.004373\n",
       "5        5  0.001822\n",
       "6        7  0.002551\n",
       "7        1  0.000364\n",
       "8        3  0.001093\n",
       "9        2  0.000729"
      ]
     },
     "execution_count": 8,
     "metadata": {},
     "output_type": "execute_result"
    }
   ],
   "source": [
    "df_cust2_bin=df_cust2.groupby(['BIN']).count().rename(columns={'SUBTOTAL':'COUNT'})\n",
    "df_cust2_bin['構成比']=df_cust2_bin['COUNT']/df_cust2_bin['COUNT'].sum()\n",
    "df_cust2_bin\n"
   ]
  },
  {
   "cell_type": "code",
   "execution_count": 9,
   "metadata": {},
   "outputs": [
    {
     "data": {
      "text/plain": [
       "<AxesSubplot:xlabel='BIN'>"
      ]
     },
     "execution_count": 9,
     "metadata": {},
     "output_type": "execute_result"
    },
    {
     "data": {
      "image/png": "[encoded data removed]",
      "text/plain": [
       "<Figure size 432x288 with 1 Axes>"
      ]
     },
     "metadata": {
      "needs_background": "light"
     },
     "output_type": "display_data"
    }
   ],
   "source": [
    "%matplotlib inline\n",
    "import matplotlib.pyplot as plt\n",
    "df_cust2_bin['COUNT'].plot.bar()\n"
   ]
  },
  {
   "cell_type": "markdown",
   "metadata": {},
   "source": [
    "# ③ランク付け"
   ]
  },
  {
   "cell_type": "code",
   "execution_count": 10,
   "metadata": {},
   "outputs": [
    {
     "data": {
      "text/html": [
       "<div>\n",
       "<style scoped>\n",
       "    .dataframe tbody tr th:only-of-type {\n",
       "        vertical-align: middle;\n",
       "    }\n",
       "\n",
       "    .dataframe tbody tr th {\n",
       "        vertical-align: top;\n",
       "    }\n",
       "\n",
       "    .dataframe thead th {\n",
       "        text-align: right;\n",
       "    }\n",
       "</style>\n",
       "<table border=\"1\" class=\"dataframe\">\n",
       "  <thead>\n",
       "    <tr style=\"text-align: right;\">\n",
       "      <th></th>\n",
       "      <th>SUBTOTAL</th>\n",
       "      <th>rank</th>\n",
       "      <th>p_rank</th>\n",
       "    </tr>\n",
       "    <tr>\n",
       "      <th>CUSTID</th>\n",
       "      <th></th>\n",
       "      <th></th>\n",
       "      <th></th>\n",
       "    </tr>\n",
       "  </thead>\n",
       "  <tbody>\n",
       "    <tr>\n",
       "      <th>102045</th>\n",
       "      <td>828844</td>\n",
       "      <td>1.0</td>\n",
       "      <td>0.000364</td>\n",
       "    </tr>\n",
       "    <tr>\n",
       "      <th>102931</th>\n",
       "      <td>755873</td>\n",
       "      <td>2.0</td>\n",
       "      <td>0.000729</td>\n",
       "    </tr>\n",
       "    <tr>\n",
       "      <th>105667</th>\n",
       "      <td>725714</td>\n",
       "      <td>3.0</td>\n",
       "      <td>0.001093</td>\n",
       "    </tr>\n",
       "    <tr>\n",
       "      <th>105539</th>\n",
       "      <td>712566</td>\n",
       "      <td>4.0</td>\n",
       "      <td>0.001458</td>\n",
       "    </tr>\n",
       "    <tr>\n",
       "      <th>101628</th>\n",
       "      <td>677700</td>\n",
       "      <td>5.0</td>\n",
       "      <td>0.001822</td>\n",
       "    </tr>\n",
       "    <tr>\n",
       "      <th>...</th>\n",
       "      <td>...</td>\n",
       "      <td>...</td>\n",
       "      <td>...</td>\n",
       "    </tr>\n",
       "    <tr>\n",
       "      <th>104042</th>\n",
       "      <td>1050</td>\n",
       "      <td>2740.0</td>\n",
       "      <td>0.998542</td>\n",
       "    </tr>\n",
       "    <tr>\n",
       "      <th>100930</th>\n",
       "      <td>1048</td>\n",
       "      <td>2741.0</td>\n",
       "      <td>0.998907</td>\n",
       "    </tr>\n",
       "    <tr>\n",
       "      <th>100979</th>\n",
       "      <td>1034</td>\n",
       "      <td>2742.0</td>\n",
       "      <td>0.999271</td>\n",
       "    </tr>\n",
       "    <tr>\n",
       "      <th>103916</th>\n",
       "      <td>1022</td>\n",
       "      <td>2743.0</td>\n",
       "      <td>0.999636</td>\n",
       "    </tr>\n",
       "    <tr>\n",
       "      <th>105065</th>\n",
       "      <td>1009</td>\n",
       "      <td>2744.0</td>\n",
       "      <td>1.000000</td>\n",
       "    </tr>\n",
       "  </tbody>\n",
       "</table>\n",
       "<p>2744 rows × 3 columns</p>\n",
       "</div>"
      ],
      "text/plain": [
       "        SUBTOTAL    rank    p_rank\n",
       "CUSTID                            \n",
       "102045    828844     1.0  0.000364\n",
       "102931    755873     2.0  0.000729\n",
       "105667    725714     3.0  0.001093\n",
       "105539    712566     4.0  0.001458\n",
       "101628    677700     5.0  0.001822\n",
       "...          ...     ...       ...\n",
       "104042      1050  2740.0  0.998542\n",
       "100930      1048  2741.0  0.998907\n",
       "100979      1034  2742.0  0.999271\n",
       "103916      1022  2743.0  0.999636\n",
       "105065      1009  2744.0  1.000000\n",
       "\n",
       "[2744 rows x 3 columns]"
      ]
     },
     "execution_count": 10,
     "metadata": {},
     "output_type": "execute_result"
    }
   ],
   "source": [
    "#ランク\n",
    "df_cust3=df_cust_total.copy()\n",
    "df_cust3['rank']=df_cust3['SUBTOTAL'].rank(ascending=False)\n",
    "df_cust3=df_cust3.sort_values(['rank'])\n",
    "df_cust3['p_rank']=df_cust3['rank']/len(df_cust3)\n",
    "df_cust3"
   ]
  },
  {
   "cell_type": "code",
   "execution_count": 11,
   "metadata": {},
   "outputs": [
    {
     "name": "stdout",
     "output_type": "stream",
     "text": [
      "3.8.5 (default, Sep  3 2020, 21:29:08) [MSC v.1916 64 bit (AMD64)]\n"
     ]
    }
   ],
   "source": [
    "import sys\n",
    "\n",
    "print(sys.version)"
   ]
  },
  {
   "cell_type": "code",
   "execution_count": 12,
   "metadata": {},
   "outputs": [
    {
     "name": "stdout",
     "output_type": "stream",
     "text": [
      "1.0.5\n"
     ]
    }
   ],
   "source": [
    "print(pd.__version__)"
   ]
  },
  {
   "cell_type": "code",
   "execution_count": null,
   "metadata": {},
   "outputs": [],
   "source": []
  }
 ],
 "metadata": {
  "kernelspec": {
   "display_name": "Python 3",
   "language": "python",
   "name": "python3"
  },
  "language_info": {
   "codemirror_mode": {
    "name": "ipython",
    "version": 3
   },
   "file_extension": ".py",
   "mimetype": "text/x-python",
   "name": "python",
   "nbconvert_exporter": "python",
   "pygments_lexer": "ipython3",
   "version": "3.8.5"
  }
 },
 "nbformat": 4,
 "nbformat_minor": 1
}

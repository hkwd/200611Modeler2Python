{
 "cells": [
  {
   "cell_type": "markdown",
   "id": "358dbe7a",
   "metadata": {},
   "source": [
    "# SPSS Modelerの回帰モデル評価のための精度分析ノード:回帰をPythonで書き換える。"
   ]
  },
  {
   "cell_type": "markdown",
   "id": "a55e6c84",
   "metadata": {},
   "source": [
    "SPSS Modeler ノードリファレンス 6-4b 精度分析:回帰 - Qiita \n",
    "\n",
    "https://qiita.com/kawada2017/items/bc543f0f1bb401854c0e"
   ]
  },
  {
   "cell_type": "markdown",
   "id": "60e8a901",
   "metadata": {},
   "source": [
    "# データの読み込み"
   ]
  },
  {
   "cell_type": "code",
   "execution_count": 1,
   "id": "32605bec",
   "metadata": {},
   "outputs": [
    {
     "data": {
      "text/html": [
       "<div>\n",
       "<style scoped>\n",
       "    .dataframe tbody tr th:only-of-type {\n",
       "        vertical-align: middle;\n",
       "    }\n",
       "\n",
       "    .dataframe tbody tr th {\n",
       "        vertical-align: top;\n",
       "    }\n",
       "\n",
       "    .dataframe thead th {\n",
       "        text-align: right;\n",
       "    }\n",
       "</style>\n",
       "<table border=\"1\" class=\"dataframe\">\n",
       "  <thead>\n",
       "    <tr style=\"text-align: right;\">\n",
       "      <th></th>\n",
       "      <th>燃費</th>\n",
       "      <th>エンジン</th>\n",
       "      <th>馬力</th>\n",
       "      <th>車体重量</th>\n",
       "      <th>加速性</th>\n",
       "      <th>年式</th>\n",
       "      <th>生産国</th>\n",
       "      <th>気筒数</th>\n",
       "    </tr>\n",
       "  </thead>\n",
       "  <tbody>\n",
       "    <tr>\n",
       "      <th>0</th>\n",
       "      <td>19.0</td>\n",
       "      <td>70</td>\n",
       "      <td>97</td>\n",
       "      <td>2330</td>\n",
       "      <td>13.5</td>\n",
       "      <td>72.0</td>\n",
       "      <td>日本</td>\n",
       "      <td>3気筒</td>\n",
       "    </tr>\n",
       "    <tr>\n",
       "      <th>1</th>\n",
       "      <td>18.0</td>\n",
       "      <td>70</td>\n",
       "      <td>90</td>\n",
       "      <td>2124</td>\n",
       "      <td>13.5</td>\n",
       "      <td>73.0</td>\n",
       "      <td>日本</td>\n",
       "      <td>3気筒</td>\n",
       "    </tr>\n",
       "    <tr>\n",
       "      <th>2</th>\n",
       "      <td>21.5</td>\n",
       "      <td>80</td>\n",
       "      <td>110</td>\n",
       "      <td>2720</td>\n",
       "      <td>13.5</td>\n",
       "      <td>77.0</td>\n",
       "      <td>日本</td>\n",
       "      <td>3気筒</td>\n",
       "    </tr>\n",
       "    <tr>\n",
       "      <th>3</th>\n",
       "      <td>23.7</td>\n",
       "      <td>70</td>\n",
       "      <td>100</td>\n",
       "      <td>2420</td>\n",
       "      <td>12.5</td>\n",
       "      <td>80.0</td>\n",
       "      <td>日本</td>\n",
       "      <td>3気筒</td>\n",
       "    </tr>\n",
       "    <tr>\n",
       "      <th>4</th>\n",
       "      <td>20.3</td>\n",
       "      <td>131</td>\n",
       "      <td>103</td>\n",
       "      <td>2830</td>\n",
       "      <td>15.9</td>\n",
       "      <td>78.0</td>\n",
       "      <td>ヨーロッパ</td>\n",
       "      <td>5気筒</td>\n",
       "    </tr>\n",
       "    <tr>\n",
       "      <th>...</th>\n",
       "      <td>...</td>\n",
       "      <td>...</td>\n",
       "      <td>...</td>\n",
       "      <td>...</td>\n",
       "      <td>...</td>\n",
       "      <td>...</td>\n",
       "      <td>...</td>\n",
       "      <td>...</td>\n",
       "    </tr>\n",
       "    <tr>\n",
       "      <th>387</th>\n",
       "      <td>22.0</td>\n",
       "      <td>146</td>\n",
       "      <td>97</td>\n",
       "      <td>2815</td>\n",
       "      <td>14.5</td>\n",
       "      <td>77.0</td>\n",
       "      <td>日本</td>\n",
       "      <td>6気筒</td>\n",
       "    </tr>\n",
       "    <tr>\n",
       "      <th>388</th>\n",
       "      <td>32.7</td>\n",
       "      <td>168</td>\n",
       "      <td>132</td>\n",
       "      <td>2910</td>\n",
       "      <td>11.4</td>\n",
       "      <td>80.0</td>\n",
       "      <td>日本</td>\n",
       "      <td>6気筒</td>\n",
       "    </tr>\n",
       "    <tr>\n",
       "      <th>389</th>\n",
       "      <td>25.4</td>\n",
       "      <td>168</td>\n",
       "      <td>116</td>\n",
       "      <td>2900</td>\n",
       "      <td>12.6</td>\n",
       "      <td>81.0</td>\n",
       "      <td>日本</td>\n",
       "      <td>6気筒</td>\n",
       "    </tr>\n",
       "    <tr>\n",
       "      <th>390</th>\n",
       "      <td>24.2</td>\n",
       "      <td>146</td>\n",
       "      <td>120</td>\n",
       "      <td>2930</td>\n",
       "      <td>13.8</td>\n",
       "      <td>81.0</td>\n",
       "      <td>日本</td>\n",
       "      <td>6気筒</td>\n",
       "    </tr>\n",
       "    <tr>\n",
       "      <th>391</th>\n",
       "      <td>25.4</td>\n",
       "      <td>183</td>\n",
       "      <td>77</td>\n",
       "      <td>3530</td>\n",
       "      <td>20.1</td>\n",
       "      <td>69.0</td>\n",
       "      <td>ヨーロッパ</td>\n",
       "      <td>5気筒</td>\n",
       "    </tr>\n",
       "  </tbody>\n",
       "</table>\n",
       "<p>392 rows × 8 columns</p>\n",
       "</div>"
      ],
      "text/plain": [
       "       燃費  エンジン   馬力  車体重量   加速性    年式    生産国  気筒数\n",
       "0    19.0    70   97  2330  13.5  72.0     日本  3気筒\n",
       "1    18.0    70   90  2124  13.5  73.0     日本  3気筒\n",
       "2    21.5    80  110  2720  13.5  77.0     日本  3気筒\n",
       "3    23.7    70  100  2420  12.5  80.0     日本  3気筒\n",
       "4    20.3   131  103  2830  15.9  78.0  ヨーロッパ  5気筒\n",
       "..    ...   ...  ...   ...   ...   ...    ...  ...\n",
       "387  22.0   146   97  2815  14.5  77.0     日本  6気筒\n",
       "388  32.7   168  132  2910  11.4  80.0     日本  6気筒\n",
       "389  25.4   168  116  2900  12.6  81.0     日本  6気筒\n",
       "390  24.2   146  120  2930  13.8  81.0     日本  6気筒\n",
       "391  25.4   183   77  3530  20.1  69.0  ヨーロッパ  5気筒\n",
       "\n",
       "[392 rows x 8 columns]"
      ]
     },
     "execution_count": 1,
     "metadata": {},
     "output_type": "execute_result"
    }
   ],
   "source": [
    "import pandas as pd\n",
    "#!wget 'https://raw.githubusercontent.com/yoichiro0903n/blue/main/cars.csv'\n",
    "df=pd.read_csv('cars.csv')\n",
    "df"
   ]
  },
  {
   "cell_type": "markdown",
   "id": "60e8a901",
   "metadata": {},
   "source": [
    "# 1sk．全データに基づく回帰モデルの精度分析　scikit-learn"
   ]
  },
  {
   "cell_type": "code",
   "execution_count": 2,
   "id": "8fd057e4",
   "metadata": {},
   "outputs": [
    {
     "data": {
      "text/html": [
       "<style>#sk-container-id-1 {color: black;background-color: white;}#sk-container-id-1 pre{padding: 0;}#sk-container-id-1 div.sk-toggleable {background-color: white;}#sk-container-id-1 label.sk-toggleable__label {cursor: pointer;display: block;width: 100%;margin-bottom: 0;padding: 0.3em;box-sizing: border-box;text-align: center;}#sk-container-id-1 label.sk-toggleable__label-arrow:before {content: \"▸\";float: left;margin-right: 0.25em;color: #696969;}#sk-container-id-1 label.sk-toggleable__label-arrow:hover:before {color: black;}#sk-container-id-1 div.sk-estimator:hover label.sk-toggleable__label-arrow:before {color: black;}#sk-container-id-1 div.sk-toggleable__content {max-height: 0;max-width: 0;overflow: hidden;text-align: left;background-color: #f0f8ff;}#sk-container-id-1 div.sk-toggleable__content pre {margin: 0.2em;color: black;border-radius: 0.25em;background-color: #f0f8ff;}#sk-container-id-1 input.sk-toggleable__control:checked~div.sk-toggleable__content {max-height: 200px;max-width: 100%;overflow: auto;}#sk-container-id-1 input.sk-toggleable__control:checked~label.sk-toggleable__label-arrow:before {content: \"▾\";}#sk-container-id-1 div.sk-estimator input.sk-toggleable__control:checked~label.sk-toggleable__label {background-color: #d4ebff;}#sk-container-id-1 div.sk-label input.sk-toggleable__control:checked~label.sk-toggleable__label {background-color: #d4ebff;}#sk-container-id-1 input.sk-hidden--visually {border: 0;clip: rect(1px 1px 1px 1px);clip: rect(1px, 1px, 1px, 1px);height: 1px;margin: -1px;overflow: hidden;padding: 0;position: absolute;width: 1px;}#sk-container-id-1 div.sk-estimator {font-family: monospace;background-color: #f0f8ff;border: 1px dotted black;border-radius: 0.25em;box-sizing: border-box;margin-bottom: 0.5em;}#sk-container-id-1 div.sk-estimator:hover {background-color: #d4ebff;}#sk-container-id-1 div.sk-parallel-item::after {content: \"\";width: 100%;border-bottom: 1px solid gray;flex-grow: 1;}#sk-container-id-1 div.sk-label:hover label.sk-toggleable__label {background-color: #d4ebff;}#sk-container-id-1 div.sk-serial::before {content: \"\";position: absolute;border-left: 1px solid gray;box-sizing: border-box;top: 0;bottom: 0;left: 50%;z-index: 0;}#sk-container-id-1 div.sk-serial {display: flex;flex-direction: column;align-items: center;background-color: white;padding-right: 0.2em;padding-left: 0.2em;position: relative;}#sk-container-id-1 div.sk-item {position: relative;z-index: 1;}#sk-container-id-1 div.sk-parallel {display: flex;align-items: stretch;justify-content: center;background-color: white;position: relative;}#sk-container-id-1 div.sk-item::before, #sk-container-id-1 div.sk-parallel-item::before {content: \"\";position: absolute;border-left: 1px solid gray;box-sizing: border-box;top: 0;bottom: 0;left: 50%;z-index: -1;}#sk-container-id-1 div.sk-parallel-item {display: flex;flex-direction: column;z-index: 1;position: relative;background-color: white;}#sk-container-id-1 div.sk-parallel-item:first-child::after {align-self: flex-end;width: 50%;}#sk-container-id-1 div.sk-parallel-item:last-child::after {align-self: flex-start;width: 50%;}#sk-container-id-1 div.sk-parallel-item:only-child::after {width: 0;}#sk-container-id-1 div.sk-dashed-wrapped {border: 1px dashed gray;margin: 0 0.4em 0.5em 0.4em;box-sizing: border-box;padding-bottom: 0.4em;background-color: white;}#sk-container-id-1 div.sk-label label {font-family: monospace;font-weight: bold;display: inline-block;line-height: 1.2em;}#sk-container-id-1 div.sk-label-container {text-align: center;}#sk-container-id-1 div.sk-container {/* jupyter's `normalize.less` sets `[hidden] { display: none; }` but bootstrap.min.css set `[hidden] { display: none !important; }` so we also need the `!important` here to be able to override the default hidden behavior on the sphinx rendered scikit-learn.org. See: https://github.com/scikit-learn/scikit-learn/issues/21755 */display: inline-block !important;position: relative;}#sk-container-id-1 div.sk-text-repr-fallback {display: none;}</style><div id=\"sk-container-id-1\" class=\"sk-top-container\"><div class=\"sk-text-repr-fallback\"><pre>LinearRegression()</pre><b>In a Jupyter environment, please rerun this cell to show the HTML representation or trust the notebook. <br />On GitHub, the HTML representation is unable to render, please try loading this page with nbviewer.org.</b></div><div class=\"sk-container\" hidden><div class=\"sk-item\"><div class=\"sk-estimator sk-toggleable\"><input class=\"sk-toggleable__control sk-hidden--visually\" id=\"sk-estimator-id-1\" type=\"checkbox\" checked><label for=\"sk-estimator-id-1\" class=\"sk-toggleable__label sk-toggleable__label-arrow\">LinearRegression</label><div class=\"sk-toggleable__content\"><pre>LinearRegression()</pre></div></div></div></div></div>"
      ],
      "text/plain": [
       "LinearRegression()"
      ]
     },
     "execution_count": 2,
     "metadata": {},
     "output_type": "execute_result"
    }
   ],
   "source": [
    "# モデルの作成\n",
    "\n",
    "from sklearn.linear_model import LinearRegression\n",
    "from sklearn.model_selection import train_test_split\n",
    "\n",
    "\n",
    "# 説明変数\n",
    "X = df[['エンジン']]\n",
    "# 目的変数\n",
    "Y = df['馬力']\n",
    "\n",
    "\n",
    "# 線形回帰のモデルを作成\n",
    "lr = LinearRegression()\n",
    "lr.fit(X, Y)\n"
   ]
  },
  {
   "cell_type": "code",
   "execution_count": 3,
   "id": "aade7445",
   "metadata": {},
   "outputs": [],
   "source": [
    "#回帰モデルの評価\n",
    "def analysis_eval(X, Y, lr):\n",
    "    Y_pred = lr.predict(X)  # 学習データに対して目的変数を予測\n",
    "    df_residual = pd.DataFrame(data={'Y': Y, 'Y_pred': Y_pred})\n",
    "    df_residual['残差'] = df_residual['Y']-df_residual['Y_pred']\n",
    "    dic_analyis_eval = {}\n",
    "    #最小誤差\n",
    "    #print('最小誤差: ', df_residual['残差'].min())\n",
    "    dic_analyis_eval['最小誤差'] = df_residual['残差'].min()\n",
    "\n",
    "    #最大誤差を出力\n",
    "    from sklearn.metrics import max_error\n",
    "    #print('最大誤差: ', max_error(Y, Y_pred))\n",
    "    #dic_analyis_eval['最大誤差'] = df_residual['残差'].max()\n",
    "    dic_analyis_eval['最大誤差'] = max_error(Y, Y_pred)\n",
    "\n",
    "    #平均誤差\n",
    "    #print('平均誤差: ', df_residual['残差'].mean())\n",
    "    dic_analyis_eval['平均誤差'] = df_residual['残差'].mean()\n",
    "\n",
    "    #絶対平均誤差(MAE)\n",
    "    from sklearn.metrics import mean_absolute_error\n",
    "    #print('絶対平均誤差(MAE): ', mean_absolute_error(Y, Y_pred))\n",
    "    dic_analyis_eval['絶対平均誤差(MAE)'] = mean_absolute_error(Y, Y_pred)\n",
    "\n",
    "    #二乗平均平方根誤差 (RMSE)\n",
    "    from sklearn.metrics import mean_squared_error\n",
    "    import numpy as np\n",
    "    #print('二乗平均平方根誤差 (RMSE): ', np.sqrt(mean_squared_error(Y, Y_pred)))\n",
    "    dic_analyis_eval['二乗平均平方根誤差 (RMSE)'] = np.sqrt(\n",
    "        mean_squared_error(Y, Y_pred))\n",
    "\n",
    "    #線形相関\n",
    "    #print('線形相関: ', df_residual[['Y','Y_pred']].corr().at['Y', 'Y_pred'])\n",
    "    dic_analyis_eval['線形相関'] = df_residual[[\n",
    "        'Y', 'Y_pred']].corr().at['Y', 'Y_pred']\n",
    "\n",
    "    #頻度数\n",
    "    #print('頻度数: ', len(df_residual))\n",
    "    dic_analyis_eval['頻度数'] = len(df_residual)\n",
    "    return dic_analyis_eval\n"
   ]
  },
  {
   "cell_type": "code",
   "execution_count": 4,
   "id": "91e5a5da",
   "metadata": {},
   "outputs": [
    {
     "data": {
      "text/plain": [
       "{'最小誤差': -59.57619761558347,\n",
       " '最大誤差': 76.01978973370788,\n",
       " '平均誤差': 8.700523295021635e-15,\n",
       " '絶対平均誤差(MAE)': 12.932339595462782,\n",
       " '二乗平均平方根誤差 (RMSE)': 17.852878968271614,\n",
       " '線形相関': 0.8732150534421105,\n",
       " '頻度数': 392}"
      ]
     },
     "execution_count": 4,
     "metadata": {},
     "output_type": "execute_result"
    }
   ],
   "source": [
    "analysis_eval(X,Y,lr)"
   ]
  },
  {
   "cell_type": "markdown",
   "id": "1a467a63",
   "metadata": {},
   "source": [
    "scikit-learn で回帰モデルの結果を評価する – Python でデータサイエンス https://pythondatascience.plavox.info/scikit-learn/%E5%9B%9E%E5%B8%B0%E3%83%A2%E3%83%87%E3%83%AB%E3%81%AE%E8%A9%95%E4%BE%A1\n",
    "\n",
    "API Reference — scikit-learn 1.1.2 documentation https://scikit-learn.org/stable/modules/classes.html#regression-metrics"
   ]
  },
  {
   "cell_type": "markdown",
   "id": "4642a269",
   "metadata": {},
   "source": [
    "# 1st．全データに基づく回帰モデルの精度分析　statsmodels"
   ]
  },
  {
   "cell_type": "code",
   "execution_count": 5,
   "id": "b04a9a6a",
   "metadata": {},
   "outputs": [
    {
     "name": "stdout",
     "output_type": "stream",
     "text": [
      "最大誤差:  76.01978973370788\n",
      "絶対平均誤差(MAE):  12.932339595462782\n",
      "二乗平均平方根誤差 (RMSE):  17.852878968271614\n"
     ]
    }
   ],
   "source": [
    "Y_pred = lr.predict(X)\n",
    "from statsmodels.tools.eval_measures import maxabs\n",
    "print('最大誤差: ', maxabs(Y, Y_pred))\n",
    "from statsmodels.tools.eval_measures import meanabs\n",
    "print('絶対平均誤差(MAE): ', meanabs(Y, Y_pred)) \n",
    "from statsmodels.tools.eval_measures import rmse\n",
    "print('二乗平均平方根誤差 (RMSE): ', rmse(Y, Y_pred))"
   ]
  },
  {
   "cell_type": "markdown",
   "id": "c75c58b1",
   "metadata": {},
   "source": [
    "# 2sk．学習データとテストデータに分けた回帰モデルの精度分析　sklearn"
   ]
  },
  {
   "cell_type": "code",
   "execution_count": 6,
   "id": "6b1dc181",
   "metadata": {},
   "outputs": [
    {
     "data": {
      "text/html": [
       "<div>\n",
       "<style scoped>\n",
       "    .dataframe tbody tr th:only-of-type {\n",
       "        vertical-align: middle;\n",
       "    }\n",
       "\n",
       "    .dataframe tbody tr th {\n",
       "        vertical-align: top;\n",
       "    }\n",
       "\n",
       "    .dataframe thead th {\n",
       "        text-align: right;\n",
       "    }\n",
       "</style>\n",
       "<table border=\"1\" class=\"dataframe\">\n",
       "  <thead>\n",
       "    <tr style=\"text-align: right;\">\n",
       "      <th></th>\n",
       "      <th>学習</th>\n",
       "      <th>テスト</th>\n",
       "    </tr>\n",
       "  </thead>\n",
       "  <tbody>\n",
       "    <tr>\n",
       "      <th>最小誤差</th>\n",
       "      <td>-42.994</td>\n",
       "      <td>-59.502</td>\n",
       "    </tr>\n",
       "    <tr>\n",
       "      <th>最大誤差</th>\n",
       "      <td>67.937</td>\n",
       "      <td>77.275</td>\n",
       "    </tr>\n",
       "    <tr>\n",
       "      <th>平均誤差</th>\n",
       "      <td>-0.000</td>\n",
       "      <td>-0.146</td>\n",
       "    </tr>\n",
       "    <tr>\n",
       "      <th>絶対平均誤差(MAE)</th>\n",
       "      <td>13.072</td>\n",
       "      <td>12.930</td>\n",
       "    </tr>\n",
       "    <tr>\n",
       "      <th>二乗平均平方根誤差 (RMSE)</th>\n",
       "      <td>17.290</td>\n",
       "      <td>18.468</td>\n",
       "    </tr>\n",
       "    <tr>\n",
       "      <th>線形相関</th>\n",
       "      <td>0.867</td>\n",
       "      <td>0.879</td>\n",
       "    </tr>\n",
       "    <tr>\n",
       "      <th>頻度数</th>\n",
       "      <td>196.000</td>\n",
       "      <td>196.000</td>\n",
       "    </tr>\n",
       "  </tbody>\n",
       "</table>\n",
       "</div>"
      ],
      "text/plain": [
       "                      学習     テスト\n",
       "最小誤差             -42.994 -59.502\n",
       "最大誤差              67.937  77.275\n",
       "平均誤差              -0.000  -0.146\n",
       "絶対平均誤差(MAE)       13.072  12.930\n",
       "二乗平均平方根誤差 (RMSE)  17.290  18.468\n",
       "線形相関               0.867   0.879\n",
       "頻度数              196.000 196.000"
      ]
     },
     "execution_count": 6,
     "metadata": {},
     "output_type": "execute_result"
    }
   ],
   "source": [
    "#学習とテストデータに分割\n",
    "X_train, X_test, Y_train, Y_test = train_test_split(\n",
    "    X, Y, test_size=0.5, random_state=1234567\n",
    ")\n",
    "\n",
    "# 線形回帰のモデルを作成\n",
    "lr2 = LinearRegression()\n",
    "lr2.fit(X_train, Y_train)\n",
    "# 各モデルの評価を算出\n",
    "analysis_eva_train=analysis_eval(X_train,Y_train,lr2)\n",
    "analysis_eva_test=analysis_eval(X_test,Y_test,lr2)\n",
    "# 整形して表示\n",
    "pd.options.display.float_format = '{:.3f}'.format\n",
    "pd.DataFrame([analysis_eva_train,analysis_eva_test],index=['学習','テスト']).T"
   ]
  },
  {
   "cell_type": "markdown",
   "id": "a65fc065",
   "metadata": {},
   "source": [
    "Tools — statsmodels https://www.statsmodels.org/dev/tools.html"
   ]
  },
  {
   "cell_type": "code",
   "execution_count": 7,
   "id": "c526f8cd",
   "metadata": {},
   "outputs": [
    {
     "name": "stdout",
     "output_type": "stream",
     "text": [
      "3.8.10 (tags/v3.8.10:3d8993a, May  3 2021, 11:48:03) [MSC v.1928 64 bit (AMD64)]\n",
      "1.4.1\n",
      "1.1.1\n",
      "0.13.2\n"
     ]
    }
   ],
   "source": [
    "import sys\n",
    "\n",
    "print(sys.version)\n",
    "print(pd.__version__)\n",
    "import sklearn\n",
    "print(sklearn.__version__)\n",
    "import statsmodels\n",
    "print(statsmodels.__version__)"
   ]
  },
  {
   "cell_type": "code",
   "execution_count": null,
   "id": "32241722",
   "metadata": {},
   "outputs": [],
   "source": []
  }
 ],
 "metadata": {
  "kernelspec": {
   "display_name": "Python 3.8.10 64-bit",
   "language": "python",
   "name": "python3"
  },
  "language_info": {
   "codemirror_mode": {
    "name": "ipython",
    "version": 3
   },
   "file_extension": ".py",
   "mimetype": "text/x-python",
   "name": "python",
   "nbconvert_exporter": "python",
   "pygments_lexer": "ipython3",
   "version": "3.8.10"
  },
  "vscode": {
   "interpreter": {
    "hash": "f311d507aec49860c8f3190548268effc72c4bf295b7f79ce68a4fee500fb7b8"
   }
  }
 },
 "nbformat": 4,
 "nbformat_minor": 5
}

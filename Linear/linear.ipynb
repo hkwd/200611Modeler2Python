{
 "cells": [
  {
   "cell_type": "markdown",
   "id": "358dbe7a",
   "metadata": {},
   "source": [
    "# SPSS Modelerの線形回帰ノードをPythonで書き換える。"
   ]
  },
  {
   "cell_type": "markdown",
   "id": "a55e6c84",
   "metadata": {},
   "source": [
    "SPSS Modeler ノードリファレンス 5-1 線型回帰 - Qiita \n",
    "https://qiita.com/416nishimaki/items/041619da302a46125b72"
   ]
  },
  {
   "cell_type": "markdown",
   "id": "60e8a901",
   "metadata": {},
   "source": [
    "# データの読み込み"
   ]
  },
  {
   "cell_type": "code",
   "execution_count": 1,
   "id": "32605bec",
   "metadata": {},
   "outputs": [
    {
     "data": {
      "text/html": [
       "<div>\n",
       "<style scoped>\n",
       "    .dataframe tbody tr th:only-of-type {\n",
       "        vertical-align: middle;\n",
       "    }\n",
       "\n",
       "    .dataframe tbody tr th {\n",
       "        vertical-align: top;\n",
       "    }\n",
       "\n",
       "    .dataframe thead th {\n",
       "        text-align: right;\n",
       "    }\n",
       "</style>\n",
       "<table border=\"1\" class=\"dataframe\">\n",
       "  <thead>\n",
       "    <tr style=\"text-align: right;\">\n",
       "      <th></th>\n",
       "      <th>燃費</th>\n",
       "      <th>エンジン</th>\n",
       "      <th>馬力</th>\n",
       "      <th>車体重量</th>\n",
       "      <th>加速性</th>\n",
       "      <th>年式</th>\n",
       "      <th>生産国</th>\n",
       "      <th>気筒数</th>\n",
       "    </tr>\n",
       "  </thead>\n",
       "  <tbody>\n",
       "    <tr>\n",
       "      <th>0</th>\n",
       "      <td>19.0</td>\n",
       "      <td>70</td>\n",
       "      <td>97</td>\n",
       "      <td>2330</td>\n",
       "      <td>13.5</td>\n",
       "      <td>72.0</td>\n",
       "      <td>日本</td>\n",
       "      <td>3気筒</td>\n",
       "    </tr>\n",
       "    <tr>\n",
       "      <th>1</th>\n",
       "      <td>18.0</td>\n",
       "      <td>70</td>\n",
       "      <td>90</td>\n",
       "      <td>2124</td>\n",
       "      <td>13.5</td>\n",
       "      <td>73.0</td>\n",
       "      <td>日本</td>\n",
       "      <td>3気筒</td>\n",
       "    </tr>\n",
       "    <tr>\n",
       "      <th>2</th>\n",
       "      <td>21.5</td>\n",
       "      <td>80</td>\n",
       "      <td>110</td>\n",
       "      <td>2720</td>\n",
       "      <td>13.5</td>\n",
       "      <td>77.0</td>\n",
       "      <td>日本</td>\n",
       "      <td>3気筒</td>\n",
       "    </tr>\n",
       "    <tr>\n",
       "      <th>3</th>\n",
       "      <td>23.7</td>\n",
       "      <td>70</td>\n",
       "      <td>100</td>\n",
       "      <td>2420</td>\n",
       "      <td>12.5</td>\n",
       "      <td>80.0</td>\n",
       "      <td>日本</td>\n",
       "      <td>3気筒</td>\n",
       "    </tr>\n",
       "    <tr>\n",
       "      <th>4</th>\n",
       "      <td>20.3</td>\n",
       "      <td>131</td>\n",
       "      <td>103</td>\n",
       "      <td>2830</td>\n",
       "      <td>15.9</td>\n",
       "      <td>78.0</td>\n",
       "      <td>ヨーロッパ</td>\n",
       "      <td>5気筒</td>\n",
       "    </tr>\n",
       "    <tr>\n",
       "      <th>...</th>\n",
       "      <td>...</td>\n",
       "      <td>...</td>\n",
       "      <td>...</td>\n",
       "      <td>...</td>\n",
       "      <td>...</td>\n",
       "      <td>...</td>\n",
       "      <td>...</td>\n",
       "      <td>...</td>\n",
       "    </tr>\n",
       "    <tr>\n",
       "      <th>387</th>\n",
       "      <td>22.0</td>\n",
       "      <td>146</td>\n",
       "      <td>97</td>\n",
       "      <td>2815</td>\n",
       "      <td>14.5</td>\n",
       "      <td>77.0</td>\n",
       "      <td>日本</td>\n",
       "      <td>6気筒</td>\n",
       "    </tr>\n",
       "    <tr>\n",
       "      <th>388</th>\n",
       "      <td>32.7</td>\n",
       "      <td>168</td>\n",
       "      <td>132</td>\n",
       "      <td>2910</td>\n",
       "      <td>11.4</td>\n",
       "      <td>80.0</td>\n",
       "      <td>日本</td>\n",
       "      <td>6気筒</td>\n",
       "    </tr>\n",
       "    <tr>\n",
       "      <th>389</th>\n",
       "      <td>25.4</td>\n",
       "      <td>168</td>\n",
       "      <td>116</td>\n",
       "      <td>2900</td>\n",
       "      <td>12.6</td>\n",
       "      <td>81.0</td>\n",
       "      <td>日本</td>\n",
       "      <td>6気筒</td>\n",
       "    </tr>\n",
       "    <tr>\n",
       "      <th>390</th>\n",
       "      <td>24.2</td>\n",
       "      <td>146</td>\n",
       "      <td>120</td>\n",
       "      <td>2930</td>\n",
       "      <td>13.8</td>\n",
       "      <td>81.0</td>\n",
       "      <td>日本</td>\n",
       "      <td>6気筒</td>\n",
       "    </tr>\n",
       "    <tr>\n",
       "      <th>391</th>\n",
       "      <td>25.4</td>\n",
       "      <td>183</td>\n",
       "      <td>77</td>\n",
       "      <td>3530</td>\n",
       "      <td>20.1</td>\n",
       "      <td>69.0</td>\n",
       "      <td>ヨーロッパ</td>\n",
       "      <td>5気筒</td>\n",
       "    </tr>\n",
       "  </tbody>\n",
       "</table>\n",
       "<p>392 rows × 8 columns</p>\n",
       "</div>"
      ],
      "text/plain": [
       "       燃費  エンジン   馬力  車体重量   加速性    年式    生産国  気筒数\n",
       "0    19.0    70   97  2330  13.5  72.0     日本  3気筒\n",
       "1    18.0    70   90  2124  13.5  73.0     日本  3気筒\n",
       "2    21.5    80  110  2720  13.5  77.0     日本  3気筒\n",
       "3    23.7    70  100  2420  12.5  80.0     日本  3気筒\n",
       "4    20.3   131  103  2830  15.9  78.0  ヨーロッパ  5気筒\n",
       "..    ...   ...  ...   ...   ...   ...    ...  ...\n",
       "387  22.0   146   97  2815  14.5  77.0     日本  6気筒\n",
       "388  32.7   168  132  2910  11.4  80.0     日本  6気筒\n",
       "389  25.4   168  116  2900  12.6  81.0     日本  6気筒\n",
       "390  24.2   146  120  2930  13.8  81.0     日本  6気筒\n",
       "391  25.4   183   77  3530  20.1  69.0  ヨーロッパ  5気筒\n",
       "\n",
       "[392 rows x 8 columns]"
      ]
     },
     "execution_count": 1,
     "metadata": {},
     "output_type": "execute_result"
    }
   ],
   "source": [
    "import pandas as pd\n",
    "#!wget 'https://raw.githubusercontent.com/yoichiro0903n/blue/main/cars.csv'\n",
    "df=pd.read_csv('cars.csv')\n",
    "df"
   ]
  },
  {
   "cell_type": "markdown",
   "id": "60e8a901",
   "metadata": {},
   "source": [
    "# 単回帰分析 sklearn"
   ]
  },
  {
   "cell_type": "code",
   "execution_count": 2,
   "id": "8fd057e4",
   "metadata": {},
   "outputs": [
    {
     "name": "stdout",
     "output_type": "stream",
     "text": [
      "coefficient =  0.32119242933373704\n",
      "intercept =  41.33771174883606\n"
     ]
    }
   ],
   "source": [
    "# モデルの作成\n",
    "\n",
    "from sklearn.linear_model import LinearRegression\n",
    "\n",
    "# 説明変数\n",
    "X = df[['エンジン']]\n",
    "# 目的変数\n",
    "Y = df['馬力']\n",
    "\n",
    "# 線形回帰のモデルを作成\n",
    "lr = LinearRegression()\n",
    "lr.fit(X, Y)\n",
    "#回帰式の係数と切片を出力\n",
    "print('coefficient = ', lr.coef_[0]) \n",
    "print('intercept = ', lr.intercept_)"
   ]
  },
  {
   "cell_type": "code",
   "execution_count": 3,
   "id": "de3ad31b",
   "metadata": {},
   "outputs": [
    {
     "name": "stdout",
     "output_type": "stream",
     "text": [
      "r^2 =  0.7625045295579075\n"
     ]
    }
   ],
   "source": [
    "# R2乗値を出力\n",
    "print('r^2 = ', lr.score(X,Y))"
   ]
  },
  {
   "cell_type": "code",
   "execution_count": 4,
   "id": "aade7445",
   "metadata": {},
   "outputs": [
    {
     "name": "stdout",
     "output_type": "stream",
     "text": [
      "r^2 data:  0.7625045295579075\n",
      "MSE data:  318.72528745575494\n"
     ]
    }
   ],
   "source": [
    "#モデルの評価\n",
    "Y_pred = lr.predict(X) # 学習データに対する目的変数を予測\n",
    "# R2乗値を出力\n",
    "from sklearn.metrics import r2_score\n",
    "print('r^2 data: ', r2_score(Y, Y_pred))\n",
    "# 平均二乗誤差を出力\n",
    "from sklearn.metrics import mean_squared_error\n",
    "print('MSE data: ', mean_squared_error(Y, Y_pred)) "
   ]
  },
  {
   "cell_type": "markdown",
   "id": "4642a269",
   "metadata": {},
   "source": [
    "# 単回帰分析 statsmodels"
   ]
  },
  {
   "cell_type": "code",
   "execution_count": 5,
   "id": "b63964ca",
   "metadata": {},
   "outputs": [
    {
     "name": "stdout",
     "output_type": "stream",
     "text": [
      "                            OLS Regression Results                            \n",
      "==============================================================================\n",
      "Dep. Variable:                     馬力   R-squared:                       0.763\n",
      "Model:                            OLS   Adj. R-squared:                  0.762\n",
      "Method:                 Least Squares   F-statistic:                     1252.\n",
      "Date:                Tue, 02 Aug 2022   Prob (F-statistic):          8.27e-124\n",
      "Time:                        16:54:20   Log-Likelihood:                -1686.0\n",
      "No. Observations:                 392   AIC:                             3376.\n",
      "Df Residuals:                     390   BIC:                             3384.\n",
      "Df Model:                           1                                         \n",
      "Covariance Type:            nonrobust                                         \n",
      "==============================================================================\n",
      "                 coef    std err          t      P>|t|      [0.025      0.975]\n",
      "------------------------------------------------------------------------------\n",
      "const         41.3377      1.923     21.494      0.000      37.557      45.119\n",
      "エンジン           0.3212      0.009     35.386      0.000       0.303       0.339\n",
      "==============================================================================\n",
      "Omnibus:                       36.840   Durbin-Watson:                   1.261\n",
      "Prob(Omnibus):                  0.000   Jarque-Bera (JB):               82.069\n",
      "Skew:                           0.498   Prob(JB):                     1.51e-18\n",
      "Kurtosis:                       5.008   Cond. No.                         451.\n",
      "==============================================================================\n",
      "\n",
      "Notes:\n",
      "[1] Standard Errors assume that the covariance matrix of the errors is correctly specified.\n"
     ]
    }
   ],
   "source": [
    "import statsmodels.api as sm\n",
    "# 説明変数\n",
    "X = df[['エンジン']]\n",
    "# 目的変数\n",
    "Y = df['馬力']\n",
    "X = sm.add_constant(X)\n",
    "\n",
    "# 線形回帰のモデルを作成\n",
    "model = sm.OLS(Y, X)\n",
    "res = model.fit()\n",
    "\n",
    "#モデルの内容/評価の表示\n",
    "print(res.summary())"
   ]
  },
  {
   "cell_type": "code",
   "execution_count": 6,
   "id": "83c98932",
   "metadata": {},
   "outputs": [
    {
     "data": {
      "text/plain": [
       "2"
      ]
     },
     "execution_count": 6,
     "metadata": {},
     "output_type": "execute_result"
    }
   ],
   "source": [
    "X.shape[1]"
   ]
  },
  {
   "cell_type": "markdown",
   "id": "88b6d61a",
   "metadata": {},
   "source": [
    "【簡単】Pythonのstatsmodelsで重回帰分析を行う方法 | ジコログ \n",
    "https://self-development.info/python%E3%81%AEstatsmodels%E3%81%A7%E7%B7%9A%E5%BD%A2%E5%9B%9E%E5%B8%B0%E3%81%AE%E9%87%8D%E5%9B%9E%E5%B8%B0%E5%88%86%E6%9E%90%E3%82%92%E8%A1%8C%E3%81%86%E6%96%B9%E6%B3%95/\n",
    "\n"
   ]
  },
  {
   "cell_type": "markdown",
   "id": "14ec6193",
   "metadata": {},
   "source": [
    "statsmodelsによる線形回帰 入門 - Qiita \n",
    "https://qiita.com/innovation1005/items/b712ce54a7a697a9bf03"
   ]
  },
  {
   "cell_type": "markdown",
   "id": "b1deb52b",
   "metadata": {},
   "source": [
    "# 重回帰分析 sklearn"
   ]
  },
  {
   "cell_type": "code",
   "execution_count": 7,
   "id": "859ea12a",
   "metadata": {},
   "outputs": [
    {
     "name": "stdout",
     "output_type": "stream",
     "text": [
      "coefficient =  [-0.43655748  0.05634613  0.02204664 -4.86622564]\n",
      "intercept =  112.74898151587317\n",
      "r^2 =  0.8714973704899913\n",
      "r^2 data:  0.8714973704899913\n",
      "MSE data:  172.45397334592232\n"
     ]
    }
   ],
   "source": [
    "from sklearn.linear_model import LinearRegression\n",
    "lr = LinearRegression()\n",
    "\n",
    "# 説明変数\n",
    "X = df[['燃費', 'エンジン', '車体重量', '加速性']]\n",
    "# 目的変数\n",
    "Y = df['馬力']\n",
    "\n",
    "# 線形回帰のモデルを作成\n",
    "lr = LinearRegression()\n",
    "lr.fit(X, Y)\n",
    "\n",
    "#回帰式の係数と切片を出力\n",
    "print('coefficient = ', lr.coef_) \n",
    "print('intercept = ', lr.intercept_)\n",
    "\n",
    "# R2乗値を出力\n",
    "print('r^2 = ', lr.score(X,Y))\n",
    "\n",
    "#モデルの評価\n",
    "Y_pred = lr.predict(X) # 学習データに対する目的変数を予測\n",
    "# R2乗値を出力\n",
    "from sklearn.metrics import r2_score\n",
    "print('r^2 data: ', r2_score(Y, Y_pred))\n",
    "# 平均二乗誤差を出力\n",
    "from sklearn.metrics import mean_squared_error\n",
    "print('MSE data: ', mean_squared_error(Y, Y_pred)) \n",
    "\n"
   ]
  },
  {
   "cell_type": "markdown",
   "id": "3af90287",
   "metadata": {},
   "source": [
    "# 重回帰分析 statsmodels"
   ]
  },
  {
   "cell_type": "code",
   "execution_count": 8,
   "id": "83d3d4d2",
   "metadata": {},
   "outputs": [
    {
     "name": "stdout",
     "output_type": "stream",
     "text": [
      "                            OLS Regression Results                            \n",
      "==============================================================================\n",
      "Dep. Variable:                     馬力   R-squared:                       0.871\n",
      "Model:                            OLS   Adj. R-squared:                  0.870\n",
      "Method:                 Least Squares   F-statistic:                     656.2\n",
      "Date:                Tue, 02 Aug 2022   Prob (F-statistic):          6.37e-171\n",
      "Time:                        16:54:20   Log-Likelihood:                -1565.6\n",
      "No. Observations:                 392   AIC:                             3141.\n",
      "Df Residuals:                     387   BIC:                             3161.\n",
      "Df Model:                           4                                         \n",
      "Covariance Type:            nonrobust                                         \n",
      "==============================================================================\n",
      "                 coef    std err          t      P>|t|      [0.025      0.975]\n",
      "------------------------------------------------------------------------------\n",
      "const        112.7490      7.830     14.400      0.000      97.355     128.143\n",
      "燃費            -0.4366      0.139     -3.145      0.002      -0.709      -0.164\n",
      "エンジン           0.0563      0.022      2.519      0.012       0.012       0.100\n",
      "車体重量           0.0220      0.003      8.355      0.000       0.017       0.027\n",
      "加速性           -4.8662      0.298    -16.312      0.000      -5.453      -4.280\n",
      "==============================================================================\n",
      "Omnibus:                       90.350   Durbin-Watson:                   1.469\n",
      "Prob(Omnibus):                  0.000   Jarque-Bera (JB):              535.323\n",
      "Skew:                           0.821   Prob(JB):                    5.70e-117\n",
      "Kurtosis:                       8.484   Cond. No.                     3.59e+04\n",
      "==============================================================================\n",
      "\n",
      "Notes:\n",
      "[1] Standard Errors assume that the covariance matrix of the errors is correctly specified.\n",
      "[2] The condition number is large, 3.59e+04. This might indicate that there are\n",
      "strong multicollinearity or other numerical problems.\n"
     ]
    }
   ],
   "source": [
    "\n",
    "######################################################################\n",
    "# 説明変数\n",
    "X = df[['燃費', 'エンジン', '車体重量', '加速性']] \n",
    "# 目的変数\n",
    "Y = df['馬力']\n",
    "\n",
    "X = sm.add_constant(X)\n",
    "\n",
    "\n",
    "# 線形回帰のモデルを作成\n",
    "model = sm.OLS(Y, X)\n",
    "res = model.fit()\n",
    "\n",
    "#モデルの内容/評価の表示\n",
    "print(res.summary())"
   ]
  },
  {
   "cell_type": "code",
   "execution_count": 9,
   "id": "2da3c55d",
   "metadata": {},
   "outputs": [
    {
     "name": "stdout",
     "output_type": "stream",
     "text": [
      "                            OLS Regression Results                            \n",
      "==============================================================================\n",
      "Dep. Variable:                     馬力   R-squared:                       0.871\n",
      "Model:                            OLS   Adj. R-squared:                  0.870\n",
      "Method:                 Least Squares   F-statistic:                     656.2\n",
      "Date:                Tue, 02 Aug 2022   Prob (F-statistic):          6.37e-171\n",
      "Time:                        16:54:20   Log-Likelihood:                -154.07\n",
      "No. Observations:                 392   AIC:                             318.1\n",
      "Df Residuals:                     387   BIC:                             338.0\n",
      "Df Model:                           4                                         \n",
      "Covariance Type:            nonrobust                                         \n",
      "==============================================================================\n",
      "                 coef    std err          t      P>|t|      [0.025      0.975]\n",
      "------------------------------------------------------------------------------\n",
      "const        7.72e-17      0.018   4.24e-15      1.000      -0.036       0.036\n",
      "燃費            -0.0942      0.030     -3.145      0.002      -0.153      -0.035\n",
      "エンジン           0.1532      0.061      2.519      0.012       0.034       0.273\n",
      "車体重量           0.5071      0.061      8.355      0.000       0.388       0.626\n",
      "加速性           -0.3541      0.022    -16.312      0.000      -0.397      -0.311\n",
      "==============================================================================\n",
      "Omnibus:                       90.350   Durbin-Watson:                   1.469\n",
      "Prob(Omnibus):                  0.000   Jarque-Bera (JB):              535.323\n",
      "Skew:                           0.821   Prob(JB):                    5.70e-117\n",
      "Kurtosis:                       8.484   Cond. No.                         7.86\n",
      "==============================================================================\n",
      "\n",
      "Notes:\n",
      "[1] Standard Errors assume that the covariance matrix of the errors is correctly specified.\n"
     ]
    }
   ],
   "source": [
    "#標準化係数をもとめる。\n",
    "\n",
    "import numpy as np\n",
    "from sklearn.preprocessing import StandardScaler\n",
    "# 標準化\n",
    "scaler = StandardScaler() \n",
    "df2 = df[['燃費', 'エンジン', '車体重量', '加速性','馬力']] \n",
    "scaler.fit(np.array(df2))\n",
    "df_std = scaler.transform(np.array(df2))\n",
    "df_std = pd.DataFrame(df_std, columns=df2.columns)\n",
    "\n",
    "# 説明変数\n",
    "X = df_std[['燃費', 'エンジン', '車体重量', '加速性']] \n",
    "# 目的変数\n",
    "Y = df_std['馬力']\n",
    "\n",
    "X = sm.add_constant(X)\n",
    "\n",
    "\n",
    "# 線形回帰のモデルを作成\n",
    "model = sm.OLS(Y, X)\n",
    "res = model.fit()\n",
    "\n",
    "#モデルの内容/評価の表示\n",
    "print(res.summary())\n"
   ]
  },
  {
   "cell_type": "code",
   "execution_count": 10,
   "id": "d0fa44dc",
   "metadata": {},
   "outputs": [
    {
     "data": {
      "text/html": [
       "<div>\n",
       "<style scoped>\n",
       "    .dataframe tbody tr th:only-of-type {\n",
       "        vertical-align: middle;\n",
       "    }\n",
       "\n",
       "    .dataframe tbody tr th {\n",
       "        vertical-align: top;\n",
       "    }\n",
       "\n",
       "    .dataframe thead th {\n",
       "        text-align: right;\n",
       "    }\n",
       "</style>\n",
       "<table border=\"1\" class=\"dataframe\">\n",
       "  <thead>\n",
       "    <tr style=\"text-align: right;\">\n",
       "      <th></th>\n",
       "      <th>燃費</th>\n",
       "      <th>エンジン</th>\n",
       "      <th>車体重量</th>\n",
       "      <th>加速性</th>\n",
       "      <th>馬力</th>\n",
       "    </tr>\n",
       "  </thead>\n",
       "  <tbody>\n",
       "    <tr>\n",
       "      <th>燃費</th>\n",
       "      <td>1.000000</td>\n",
       "      <td>-0.766616</td>\n",
       "      <td>-0.785220</td>\n",
       "      <td>0.397366</td>\n",
       "      <td>-0.750510</td>\n",
       "    </tr>\n",
       "    <tr>\n",
       "      <th>エンジン</th>\n",
       "      <td>-0.766616</td>\n",
       "      <td>1.000000</td>\n",
       "      <td>0.944695</td>\n",
       "      <td>-0.476675</td>\n",
       "      <td>0.873215</td>\n",
       "    </tr>\n",
       "    <tr>\n",
       "      <th>車体重量</th>\n",
       "      <td>-0.785220</td>\n",
       "      <td>0.944695</td>\n",
       "      <td>1.000000</td>\n",
       "      <td>-0.374679</td>\n",
       "      <td>0.858426</td>\n",
       "    </tr>\n",
       "    <tr>\n",
       "      <th>加速性</th>\n",
       "      <td>0.397366</td>\n",
       "      <td>-0.476675</td>\n",
       "      <td>-0.374679</td>\n",
       "      <td>1.000000</td>\n",
       "      <td>-0.654512</td>\n",
       "    </tr>\n",
       "    <tr>\n",
       "      <th>馬力</th>\n",
       "      <td>-0.750510</td>\n",
       "      <td>0.873215</td>\n",
       "      <td>0.858426</td>\n",
       "      <td>-0.654512</td>\n",
       "      <td>1.000000</td>\n",
       "    </tr>\n",
       "  </tbody>\n",
       "</table>\n",
       "</div>"
      ],
      "text/plain": [
       "            燃費      エンジン      車体重量       加速性        馬力\n",
       "燃費    1.000000 -0.766616 -0.785220  0.397366 -0.750510\n",
       "エンジン -0.766616  1.000000  0.944695 -0.476675  0.873215\n",
       "車体重量 -0.785220  0.944695  1.000000 -0.374679  0.858426\n",
       "加速性   0.397366 -0.476675 -0.374679  1.000000 -0.654512\n",
       "馬力   -0.750510  0.873215  0.858426 -0.654512  1.000000"
      ]
     },
     "execution_count": 10,
     "metadata": {},
     "output_type": "execute_result"
    }
   ],
   "source": [
    "#説明変数の相関係数行列\n",
    "df[['燃費', 'エンジン', '車体重量', '加速性','馬力']].corr(method='pearson')"
   ]
  },
  {
   "cell_type": "code",
   "execution_count": 11,
   "id": "c87f750b",
   "metadata": {},
   "outputs": [
    {
     "data": {
      "text/html": [
       "<div>\n",
       "<style scoped>\n",
       "    .dataframe tbody tr th:only-of-type {\n",
       "        vertical-align: middle;\n",
       "    }\n",
       "\n",
       "    .dataframe tbody tr th {\n",
       "        vertical-align: top;\n",
       "    }\n",
       "\n",
       "    .dataframe thead th {\n",
       "        text-align: right;\n",
       "    }\n",
       "</style>\n",
       "<table border=\"1\" class=\"dataframe\">\n",
       "  <thead>\n",
       "    <tr style=\"text-align: right;\">\n",
       "      <th></th>\n",
       "      <th>VIF</th>\n",
       "    </tr>\n",
       "  </thead>\n",
       "  <tbody>\n",
       "    <tr>\n",
       "      <th>const</th>\n",
       "      <td>1.000000</td>\n",
       "    </tr>\n",
       "    <tr>\n",
       "      <th>燃費</th>\n",
       "      <td>2.703302</td>\n",
       "    </tr>\n",
       "    <tr>\n",
       "      <th>エンジン</th>\n",
       "      <td>11.141205</td>\n",
       "    </tr>\n",
       "    <tr>\n",
       "      <th>車体重量</th>\n",
       "      <td>11.093586</td>\n",
       "    </tr>\n",
       "    <tr>\n",
       "      <th>加速性</th>\n",
       "      <td>1.418914</td>\n",
       "    </tr>\n",
       "  </tbody>\n",
       "</table>\n",
       "</div>"
      ],
      "text/plain": [
       "             VIF\n",
       "const   1.000000\n",
       "燃費      2.703302\n",
       "エンジン   11.141205\n",
       "車体重量   11.093586\n",
       "加速性     1.418914"
      ]
     },
     "execution_count": 11,
     "metadata": {},
     "output_type": "execute_result"
    }
   ],
   "source": [
    "#VIFの算出\n",
    "from statsmodels.stats.outliers_influence import variance_inflation_factor as vif\n",
    "\n",
    "num_cols = model.exog.shape[1] # 説明変数の列数\n",
    "vifs = [vif(model.exog, i) for i in range(0, num_cols)]\n",
    "\n",
    "pd.DataFrame(vifs, index=model.exog_names, columns=['VIF'])"
   ]
  },
  {
   "cell_type": "markdown",
   "id": "0c2964a4",
   "metadata": {},
   "source": [
    "Python(StatsModels) で重回帰分析を理解し、分析の精度を上げる方法 | たぬハック \n",
    "https://tanuhack.com/statsmodels-multiple-lra/\n",
    "\n",
    "statsmodels.stats.outliers_influence.variance_inflation_factor — statsmodels \n",
    "https://www.statsmodels.org/dev/generated/statsmodels.stats.outliers_influence.variance_inflation_factor.html"
   ]
  },
  {
   "cell_type": "code",
   "execution_count": 12,
   "id": "c526f8cd",
   "metadata": {},
   "outputs": [
    {
     "name": "stdout",
     "output_type": "stream",
     "text": [
      "3.8.10 (tags/v3.8.10:3d8993a, May  3 2021, 11:48:03) [MSC v.1928 64 bit (AMD64)]\n",
      "1.4.1\n",
      "1.1.1\n",
      "0.13.2\n"
     ]
    }
   ],
   "source": [
    "import sys\n",
    "\n",
    "print(sys.version)\n",
    "print(pd.__version__)\n",
    "import sklearn\n",
    "print(sklearn.__version__)\n",
    "import statsmodels\n",
    "print(statsmodels.__version__)"
   ]
  },
  {
   "cell_type": "code",
   "execution_count": null,
   "id": "32241722",
   "metadata": {},
   "outputs": [],
   "source": []
  }
 ],
 "metadata": {
  "kernelspec": {
   "display_name": "Python 3.8.10 64-bit",
   "language": "python",
   "name": "python3"
  },
  "language_info": {
   "codemirror_mode": {
    "name": "ipython",
    "version": 3
   },
   "file_extension": ".py",
   "mimetype": "text/x-python",
   "name": "python",
   "nbconvert_exporter": "python",
   "pygments_lexer": "ipython3",
   "version": "3.8.10"
  },
  "vscode": {
   "interpreter": {
    "hash": "f311d507aec49860c8f3190548268effc72c4bf295b7f79ce68a4fee500fb7b8"
   }
  }
 },
 "nbformat": 4,
 "nbformat_minor": 5
}

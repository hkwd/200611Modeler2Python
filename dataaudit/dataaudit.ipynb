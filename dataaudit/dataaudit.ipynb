{
 "cells": [
  {
   "cell_type": "markdown",
   "metadata": {},
   "source": [
    "# SPSS Modelerのバランス・ノードをPythonで書き換える。\n",
    "\n",
    "\n",
    "■利用データ<BR>\n",
    "ローン審査での、顧客の属性と判定したリスクの入ったデータを使います。Riskが１の場合はリスクの高い顧客、0はリスクの低い顧客を示しています。データには欠損値が含まれています。\n",
    "\n",
    "CustID:顧客番号\n",
    "Age:年齢\n",
    "Car_loans：車のローンランク\n",
    "Credit_cards:クレジットカード利用ランク\n",
    "Education:教育ランク\n",
    "Income:収入ランク\n",
    "Risk:リスクありなし\n",
    "![image.png](https://qiita-image-store.s3.ap-northeast-1.amazonaws.com/0/223763/eb1c3f47-b286-4222-df8b-ae783f97eea3.png)\n"
   ]
  },
  {
   "cell_type": "code",
   "execution_count": 1,
   "metadata": {},
   "outputs": [
    {
     "name": "stderr",
     "output_type": "stream",
     "text": [
      "'wget' は、内部コマンドまたは外部コマンド、\n",
      "操作可能なプログラムまたはバッチ ファイルとして認識されていません。\n"
     ]
    }
   ],
   "source": [
    "!wget https://github.com/hkwd/200611Modeler2Python/raw/master/data/credit_risk_missing.csv"
   ]
  },
  {
   "cell_type": "code",
   "execution_count": 2,
   "metadata": {
    "scrolled": true
   },
   "outputs": [
    {
     "name": "stdout",
     "output_type": "stream",
     "text": [
      "CustID             int32\n",
      "Age              float64\n",
      "Car_loans       category\n",
      "Credit_cards    category\n",
      "Education       category\n",
      "Income          category\n",
      "Risk            category\n",
      "dtype: object\n"
     ]
    },
    {
     "data": {
      "text/html": [
       "<div>\n",
       "<style scoped>\n",
       "    .dataframe tbody tr th:only-of-type {\n",
       "        vertical-align: middle;\n",
       "    }\n",
       "\n",
       "    .dataframe tbody tr th {\n",
       "        vertical-align: top;\n",
       "    }\n",
       "\n",
       "    .dataframe thead th {\n",
       "        text-align: right;\n",
       "    }\n",
       "</style>\n",
       "<table border=\"1\" class=\"dataframe\">\n",
       "  <thead>\n",
       "    <tr style=\"text-align: right;\">\n",
       "      <th></th>\n",
       "      <th>CustID</th>\n",
       "      <th>Age</th>\n",
       "      <th>Car_loans</th>\n",
       "      <th>Credit_cards</th>\n",
       "      <th>Education</th>\n",
       "      <th>Income</th>\n",
       "      <th>Risk</th>\n",
       "    </tr>\n",
       "  </thead>\n",
       "  <tbody>\n",
       "    <tr>\n",
       "      <th>0</th>\n",
       "      <td>1</td>\n",
       "      <td>28.0</td>\n",
       "      <td>1</td>\n",
       "      <td>1</td>\n",
       "      <td>2</td>\n",
       "      <td>3</td>\n",
       "      <td>0</td>\n",
       "    </tr>\n",
       "    <tr>\n",
       "      <th>1</th>\n",
       "      <td>2</td>\n",
       "      <td>45.0</td>\n",
       "      <td>2</td>\n",
       "      <td>2</td>\n",
       "      <td>2</td>\n",
       "      <td>2</td>\n",
       "      <td>1</td>\n",
       "    </tr>\n",
       "    <tr>\n",
       "      <th>2</th>\n",
       "      <td>3</td>\n",
       "      <td>23.0</td>\n",
       "      <td>1</td>\n",
       "      <td>1</td>\n",
       "      <td>1</td>\n",
       "      <td>2</td>\n",
       "      <td>0</td>\n",
       "    </tr>\n",
       "    <tr>\n",
       "      <th>3</th>\n",
       "      <td>4</td>\n",
       "      <td>NaN</td>\n",
       "      <td>1</td>\n",
       "      <td>1</td>\n",
       "      <td>2</td>\n",
       "      <td>2</td>\n",
       "      <td>0</td>\n",
       "    </tr>\n",
       "    <tr>\n",
       "      <th>4</th>\n",
       "      <td>5</td>\n",
       "      <td>27.0</td>\n",
       "      <td>1</td>\n",
       "      <td>1</td>\n",
       "      <td>1</td>\n",
       "      <td>2</td>\n",
       "      <td>0</td>\n",
       "    </tr>\n",
       "    <tr>\n",
       "      <th>5</th>\n",
       "      <td>6</td>\n",
       "      <td>25.0</td>\n",
       "      <td>NaN</td>\n",
       "      <td>1</td>\n",
       "      <td>1</td>\n",
       "      <td>3</td>\n",
       "      <td>0</td>\n",
       "    </tr>\n",
       "    <tr>\n",
       "      <th>6</th>\n",
       "      <td>7</td>\n",
       "      <td>39.0</td>\n",
       "      <td>1</td>\n",
       "      <td>NaN</td>\n",
       "      <td>1</td>\n",
       "      <td>3</td>\n",
       "      <td>0</td>\n",
       "    </tr>\n",
       "    <tr>\n",
       "      <th>7</th>\n",
       "      <td>8</td>\n",
       "      <td>150.0</td>\n",
       "      <td>2</td>\n",
       "      <td>1</td>\n",
       "      <td>NaN</td>\n",
       "      <td>3</td>\n",
       "      <td>1</td>\n",
       "    </tr>\n",
       "    <tr>\n",
       "      <th>8</th>\n",
       "      <td>9</td>\n",
       "      <td>37.0</td>\n",
       "      <td>1</td>\n",
       "      <td>1</td>\n",
       "      <td>NaN</td>\n",
       "      <td>NaN</td>\n",
       "      <td>0</td>\n",
       "    </tr>\n",
       "    <tr>\n",
       "      <th>9</th>\n",
       "      <td>10</td>\n",
       "      <td>38.0</td>\n",
       "      <td>1</td>\n",
       "      <td>1</td>\n",
       "      <td></td>\n",
       "      <td>3</td>\n",
       "      <td>0</td>\n",
       "    </tr>\n",
       "  </tbody>\n",
       "</table>\n",
       "</div>"
      ],
      "text/plain": [
       "   CustID    Age Car_loans Credit_cards Education Income Risk\n",
       "0       1   28.0         1            1         2      3    0\n",
       "1       2   45.0         2            2         2      2    1\n",
       "2       3   23.0         1            1         1      2    0\n",
       "3       4    NaN         1            1         2      2    0\n",
       "4       5   27.0         1            1         1      2    0\n",
       "5       6   25.0       NaN            1         1      3    0\n",
       "6       7   39.0         1          NaN         1      3    0\n",
       "7       8  150.0         2            1       NaN      3    1\n",
       "8       9   37.0         1            1       NaN    NaN    0\n",
       "9      10   38.0         1            1                3    0"
      ]
     },
     "execution_count": 2,
     "metadata": {},
     "output_type": "execute_result"
    }
   ],
   "source": [
    "#データの読み込み\n",
    "import types\n",
    "import pandas as pd\n",
    "\n",
    "pd.options.display.max_rows = 100\n",
    "#print(pd.options.display.max_rows)\n",
    "\n",
    "import pandas as pd\n",
    "df = pd.read_csv('credit_risk_missing.csv',dtype = {'CustID':'int', 'Age':'float', 'Car_loans':'category','Credit_cards':'category',\n",
    "                                                    'Education':'category','Income':'category','Risk':'category'}\n",
    "                , quotechar='\\'')\n",
    "print(df.dtypes)\n",
    "df.head(10)\n"
   ]
  },
  {
   "cell_type": "markdown",
   "metadata": {},
   "source": [
    "pandasでデータを読み込むときに気を付けること(dtypeの指定) - Qiita https://qiita.com/haru1977/items/53c582eb9e264ccf8574"
   ]
  },
  {
   "cell_type": "code",
   "execution_count": 3,
   "metadata": {},
   "outputs": [],
   "source": [
    "import matplotlib.pyplot as plt\n",
    "%matplotlib inline"
   ]
  },
  {
   "cell_type": "code",
   "execution_count": 4,
   "metadata": {},
   "outputs": [
    {
     "data": {
      "application/javascript": [
       "IPython.OutputArea.auto_scroll_threshold = 9999;\n"
      ],
      "text/plain": [
       "<IPython.core.display.Javascript object>"
      ]
     },
     "metadata": {},
     "output_type": "display_data"
    }
   ],
   "source": [
    "%%javascript\n",
    "IPython.OutputArea.auto_scroll_threshold = 9999;"
   ]
  },
  {
   "cell_type": "markdown",
   "metadata": {},
   "source": [
    "ipython-notebook — ipythonノートブック出力ウィンドウのサイズを変更します\n",
    "https://www.webdevqa.jp.net/ja/ipython-notebook/ipython%E3%83%8E%E3%83%BC%E3%83%88%E3%83%96%E3%83%83%E3%82%AF%E5%87%BA%E5%8A%9B%E3%82%A6%E3%82%A3%E3%83%B3%E3%83%89%E3%82%A6%E3%81%AE%E3%82%B5%E3%82%A4%E3%82%BA%E3%82%92%E5%A4%89%E6%9B%B4%E3%81%97%E3%81%BE%E3%81%99/1041963108/"
   ]
  },
  {
   "cell_type": "code",
   "execution_count": 5,
   "metadata": {},
   "outputs": [
    {
     "data": {
      "image/png": "[encoded data removed]",
      "text/plain": [
       "<Figure size 432x288 with 1 Axes>"
      ]
     },
     "metadata": {
      "needs_background": "light"
     },
     "output_type": "display_data"
    },
    {
     "data": {
      "image/png": "[encoded data removed]",
      "text/plain": [
       "<Figure size 432x288 with 1 Axes>"
      ]
     },
     "metadata": {
      "needs_background": "light"
     },
     "output_type": "display_data"
    },
    {
     "data": {
      "text/plain": [
       "<Figure size 432x288 with 0 Axes>"
      ]
     },
     "metadata": {},
     "output_type": "display_data"
    },
    {
     "data": {
      "image/png": "[encoded data removed]",
      "text/plain": [
       "<Figure size 432x288 with 1 Axes>"
      ]
     },
     "metadata": {
      "needs_background": "light"
     },
     "output_type": "display_data"
    },
    {
     "data": {
      "image/png": "[encoded data removed]",
      "text/plain": [
       "<Figure size 432x288 with 1 Axes>"
      ]
     },
     "metadata": {
      "needs_background": "light"
     },
     "output_type": "display_data"
    },
    {
     "data": {
      "image/png": "[encoded data removed]",
      "text/plain": [
       "<Figure size 432x288 with 1 Axes>"
      ]
     },
     "metadata": {
      "needs_background": "light"
     },
     "output_type": "display_data"
    },
    {
     "data": {
      "image/png": "[encoded data removed]",
      "text/plain": [
       "<Figure size 432x288 with 1 Axes>"
      ]
     },
     "metadata": {
      "needs_background": "light"
     },
     "output_type": "display_data"
    },
    {
     "data": {
      "image/png": "[encoded data removed]",
      "text/plain": [
       "<Figure size 432x288 with 1 Axes>"
      ]
     },
     "metadata": {
      "needs_background": "light"
     },
     "output_type": "display_data"
    }
   ],
   "source": [
    "\n",
    "#度数棒グラフとヒストグラム\n",
    "import re\n",
    "\n",
    "targetcol='Risk'\n",
    "for col in df.columns:\n",
    "    \n",
    "    if df[col].dtype.name=='category':\n",
    "        dfcross=pd.crosstab(df[col],df[targetcol])\n",
    "        dfcross=dfcross.reindex(['1','0'],axis=\"columns\")\n",
    "        dfcross.plot.bar(stacked=True,title=col)\n",
    "    elif re.sub(r'[0-9]+', '', df[col].dtype.name) in ['int','float']:\n",
    "        nums=[]\n",
    "        targets=df[targetcol].cat.categories.sort_values (ascending=False)\n",
    "        for i,target in enumerate(targets):\n",
    "            nums.append(df.query(targetcol+'==\\'{0}\\''.format(target))[col])\n",
    "        plt.title(col)\n",
    "        plt.hist(nums,bins=25, stacked=True,label=targets.astype('str'))\n",
    "        plt.legend()\n",
    "        plt.figure()\n",
    "\n",
    "    "
   ]
  },
  {
   "cell_type": "markdown",
   "metadata": {},
   "source": [
    "python - Check if dataframe column is Categorical - Stack Overflow\n",
    "https://stackoverflow.com/questions/26924904/check-if-dataframe-column-is-categorical\n",
    "\n",
    "    Python で文字列から数字を削除する | Delft スタック https://www.delftstack.com/ja/howto/python/remove-numbers-from-string-python/"
   ]
  },
  {
   "cell_type": "code",
   "execution_count": 6,
   "metadata": {},
   "outputs": [
    {
     "data": {
      "text/html": [
       "<div>\n",
       "<style scoped>\n",
       "    .dataframe tbody tr th:only-of-type {\n",
       "        vertical-align: middle;\n",
       "    }\n",
       "\n",
       "    .dataframe tbody tr th {\n",
       "        vertical-align: top;\n",
       "    }\n",
       "\n",
       "    .dataframe thead th {\n",
       "        text-align: right;\n",
       "    }\n",
       "</style>\n",
       "<table border=\"1\" class=\"dataframe\">\n",
       "  <thead>\n",
       "    <tr style=\"text-align: right;\">\n",
       "      <th></th>\n",
       "      <th>CustID</th>\n",
       "      <th>Age</th>\n",
       "    </tr>\n",
       "  </thead>\n",
       "  <tbody>\n",
       "    <tr>\n",
       "      <th>count</th>\n",
       "      <td>2464.000000</td>\n",
       "      <td>2461.000000</td>\n",
       "    </tr>\n",
       "    <tr>\n",
       "      <th>mean</th>\n",
       "      <td>1232.500000</td>\n",
       "      <td>33.351077</td>\n",
       "    </tr>\n",
       "    <tr>\n",
       "      <th>std</th>\n",
       "      <td>711.439855</td>\n",
       "      <td>8.859350</td>\n",
       "    </tr>\n",
       "    <tr>\n",
       "      <th>min</th>\n",
       "      <td>1.000000</td>\n",
       "      <td>20.000000</td>\n",
       "    </tr>\n",
       "    <tr>\n",
       "      <th>25%</th>\n",
       "      <td>616.750000</td>\n",
       "      <td>26.000000</td>\n",
       "    </tr>\n",
       "    <tr>\n",
       "      <th>50%</th>\n",
       "      <td>1232.500000</td>\n",
       "      <td>33.000000</td>\n",
       "    </tr>\n",
       "    <tr>\n",
       "      <th>75%</th>\n",
       "      <td>1848.250000</td>\n",
       "      <td>39.000000</td>\n",
       "    </tr>\n",
       "    <tr>\n",
       "      <th>max</th>\n",
       "      <td>2464.000000</td>\n",
       "      <td>150.000000</td>\n",
       "    </tr>\n",
       "  </tbody>\n",
       "</table>\n",
       "</div>"
      ],
      "text/plain": [
       "            CustID          Age\n",
       "count  2464.000000  2461.000000\n",
       "mean   1232.500000    33.351077\n",
       "std     711.439855     8.859350\n",
       "min       1.000000    20.000000\n",
       "25%     616.750000    26.000000\n",
       "50%    1232.500000    33.000000\n",
       "75%    1848.250000    39.000000\n",
       "max    2464.000000   150.000000"
      ]
     },
     "execution_count": 6,
     "metadata": {},
     "output_type": "execute_result"
    }
   ],
   "source": [
    "df.describe()"
   ]
  },
  {
   "cell_type": "code",
   "execution_count": 7,
   "metadata": {},
   "outputs": [
    {
     "data": {
      "text/plain": [
       "CustID          0.000000\n",
       "Age             1.348553\n",
       "Car_loans       1.050147\n",
       "Credit_cards   -0.755945\n",
       "Income         -0.140252\n",
       "Risk            1.195325\n",
       "dtype: float64"
      ]
     },
     "execution_count": 7,
     "metadata": {},
     "output_type": "execute_result"
    }
   ],
   "source": [
    "#歪度\n",
    "df.skew()"
   ]
  },
  {
   "cell_type": "markdown",
   "metadata": {},
   "source": [
    "pandasで歪度(Skewness)と尖度(Kurtosis)を計算 - Qiita https://qiita.com/ymmy02/items/36e708d3d9e5e4e6a457"
   ]
  },
  {
   "cell_type": "code",
   "execution_count": 8,
   "metadata": {},
   "outputs": [
    {
     "data": {
      "text/plain": [
       "CustID          2464\n",
       "Age               45\n",
       "Car_loans          2\n",
       "Credit_cards       2\n",
       "Education          3\n",
       "Income             3\n",
       "Risk               2\n",
       "dtype: int64"
      ]
     },
     "execution_count": 8,
     "metadata": {},
     "output_type": "execute_result"
    }
   ],
   "source": [
    "#カテゴリ数\n",
    "df.nunique()"
   ]
  },
  {
   "cell_type": "code",
   "execution_count": 9,
   "metadata": {},
   "outputs": [
    {
     "data": {
      "text/html": [
       "<div>\n",
       "<style scoped>\n",
       "    .dataframe tbody tr th:only-of-type {\n",
       "        vertical-align: middle;\n",
       "    }\n",
       "\n",
       "    .dataframe tbody tr th {\n",
       "        vertical-align: top;\n",
       "    }\n",
       "\n",
       "    .dataframe thead th {\n",
       "        text-align: right;\n",
       "    }\n",
       "</style>\n",
       "<table border=\"1\" class=\"dataframe\">\n",
       "  <thead>\n",
       "    <tr style=\"text-align: right;\">\n",
       "      <th></th>\n",
       "      <th>外れ値</th>\n",
       "      <th>極値</th>\n",
       "    </tr>\n",
       "  </thead>\n",
       "  <tbody>\n",
       "    <tr>\n",
       "      <th>CustID</th>\n",
       "      <td>0</td>\n",
       "      <td>0</td>\n",
       "    </tr>\n",
       "    <tr>\n",
       "      <th>Age</th>\n",
       "      <td>4</td>\n",
       "      <td>1</td>\n",
       "    </tr>\n",
       "  </tbody>\n",
       "</table>\n",
       "</div>"
      ],
      "text/plain": [
       "       外れ値 極値\n",
       "CustID   0  0\n",
       "Age      4  1"
      ]
     },
     "execution_count": 9,
     "metadata": {},
     "output_type": "execute_result"
    }
   ],
   "source": [
    "#外れ値、極値\n",
    "df1 = pd.DataFrame(index=[], columns=['外れ値','極値'])\n",
    "for col in df.columns:\n",
    "    if re.sub(r'[0-9]+', '', df[col].dtype.name) in ['int','float']:\n",
    "        limit_low3=df[col].mean()-df[col].std()*3\n",
    "        limit_high3=df[col].mean()+df[col].std()*3\n",
    "        limit_low5=df[col].mean()-df[col].std()*5\n",
    "        limit_high5=df[col].mean()+df[col].std()*5\n",
    "        hazurechi=((df[col] <limit_low3)|(df[col] >limit_high3)).sum()\n",
    "        kyokuchi=((df[col] <limit_low5)|(df[col] >limit_high5)).sum()\n",
    "        df1=df1.append(pd.Series([hazurechi-kyokuchi,kyokuchi],index=df1.columns,name=col))\n",
    "df1"
   ]
  },
  {
   "cell_type": "markdown",
   "metadata": {},
   "source": [
    "Python初心者向け：四分位数/標準偏差を用いた外れ値の除外 | happy analysis https://happy-analysis.com/python/python-topic-outlier.html\n",
    "    Pandasにて条件にあったカウント（count）を行う方法【value_countsの使い方など】 | ウルトラフリーダム https://life-freedom888.com/pandas-count/\n",
    "    Pythonで、空のDataFrameにindexとセットで1行追加する | ITを使っていこう https://it-ojisan.tokyo/python-dataframe-append/"
   ]
  },
  {
   "cell_type": "code",
   "execution_count": 10,
   "metadata": {},
   "outputs": [
    {
     "data": {
      "text/plain": [
       "CustID          0\n",
       "Age             3\n",
       "Car_loans       2\n",
       "Credit_cards    2\n",
       "Education       4\n",
       "Income          2\n",
       "Risk            1\n",
       "dtype: int64"
      ]
     },
     "execution_count": 10,
     "metadata": {},
     "output_type": "execute_result"
    }
   ],
   "source": [
    "#欠損値\n",
    "df.isnull().sum()"
   ]
  },
  {
   "cell_type": "code",
   "execution_count": 11,
   "metadata": {},
   "outputs": [
    {
     "data": {
      "text/html": [
       "<div>\n",
       "<style scoped>\n",
       "    .dataframe tbody tr th:only-of-type {\n",
       "        vertical-align: middle;\n",
       "    }\n",
       "\n",
       "    .dataframe tbody tr th {\n",
       "        vertical-align: top;\n",
       "    }\n",
       "\n",
       "    .dataframe thead th {\n",
       "        text-align: right;\n",
       "    }\n",
       "</style>\n",
       "<table border=\"1\" class=\"dataframe\">\n",
       "  <thead>\n",
       "    <tr style=\"text-align: right;\">\n",
       "      <th></th>\n",
       "      <th>非欠損値の割合</th>\n",
       "      <th>有効なレコード</th>\n",
       "      <th>ヌル値</th>\n",
       "      <th>空文字</th>\n",
       "      <th>空白文字</th>\n",
       "    </tr>\n",
       "  </thead>\n",
       "  <tbody>\n",
       "    <tr>\n",
       "      <th>CustID</th>\n",
       "      <td>100</td>\n",
       "      <td>2464</td>\n",
       "      <td>0</td>\n",
       "      <td>0</td>\n",
       "      <td>0</td>\n",
       "    </tr>\n",
       "    <tr>\n",
       "      <th>Age</th>\n",
       "      <td>99.8782</td>\n",
       "      <td>2461</td>\n",
       "      <td>3</td>\n",
       "      <td>0</td>\n",
       "      <td>0</td>\n",
       "    </tr>\n",
       "    <tr>\n",
       "      <th>Car_loans</th>\n",
       "      <td>99.9188</td>\n",
       "      <td>2462</td>\n",
       "      <td>0</td>\n",
       "      <td>2</td>\n",
       "      <td>2</td>\n",
       "    </tr>\n",
       "    <tr>\n",
       "      <th>Credit_cards</th>\n",
       "      <td>99.9188</td>\n",
       "      <td>2462</td>\n",
       "      <td>0</td>\n",
       "      <td>2</td>\n",
       "      <td>2</td>\n",
       "    </tr>\n",
       "    <tr>\n",
       "      <th>Education</th>\n",
       "      <td>99.7971</td>\n",
       "      <td>2459</td>\n",
       "      <td>0</td>\n",
       "      <td>4</td>\n",
       "      <td>5</td>\n",
       "    </tr>\n",
       "    <tr>\n",
       "      <th>Income</th>\n",
       "      <td>99.9188</td>\n",
       "      <td>2462</td>\n",
       "      <td>0</td>\n",
       "      <td>2</td>\n",
       "      <td>2</td>\n",
       "    </tr>\n",
       "    <tr>\n",
       "      <th>Risk</th>\n",
       "      <td>99.9594</td>\n",
       "      <td>2463</td>\n",
       "      <td>0</td>\n",
       "      <td>1</td>\n",
       "      <td>1</td>\n",
       "    </tr>\n",
       "  </tbody>\n",
       "</table>\n",
       "</div>"
      ],
      "text/plain": [
       "              非欠損値の割合 有効なレコード ヌル値 空文字 空白文字\n",
       "CustID            100    2464   0   0    0\n",
       "Age           99.8782    2461   3   0    0\n",
       "Car_loans     99.9188    2462   0   2    2\n",
       "Credit_cards  99.9188    2462   0   2    2\n",
       "Education     99.7971    2459   0   4    5\n",
       "Income        99.9188    2462   0   2    2\n",
       "Risk          99.9594    2463   0   1    1"
      ]
     },
     "execution_count": 11,
     "metadata": {},
     "output_type": "execute_result"
    }
   ],
   "source": [
    "#欠損値\n",
    "colnames=['非欠損値の割合','有効なレコード','ヌル値','空文字','空白文字']\n",
    "dfcol=pd.DataFrame(index=df.columns,columns=colnames)\n",
    "\n",
    "#ヌル\n",
    "for i,col in enumerate(dfcol.index):\n",
    "    if df[col].dtype.name=='category':\n",
    "        dfcol.iloc[i,colnames.index('ヌル値')]=0\n",
    "    elif re.sub(r'[0-9]+', '', df[col].dtype.name) in ['int','float']:\n",
    "        dfcol.iloc[i,colnames.index('ヌル値')]=df[col].isnull().sum()\n",
    "#空文字列\n",
    "for i,col in enumerate(dfcol.index):\n",
    "    if df[col].dtype.name=='category':\n",
    "        dfcol.iloc[i,colnames.index('空文字')]=df[col].isnull().sum()\n",
    "    elif re.sub(r'[0-9]+', '', df[col].dtype.name) in ['int','float']:\n",
    "        dfcol.iloc[i,colnames.index('空文字')]=0\n",
    "#空白文字\n",
    "for i,col in enumerate(dfcol.index):\n",
    "    if df[col].dtype.name=='category':\n",
    "        dfcol.iloc[i,colnames.index('空白文字')]=((df[col].str.match(r'^ +$'))).sum()+dfcol.iloc[i,colnames.index('空文字')]\n",
    "    elif re.sub(r'[0-9]+', '', df[col].dtype.name) in ['int','float']:\n",
    "        dfcol.iloc[i,colnames.index('空白文字')]=0\n",
    "#有効なレコード\n",
    "dfcol['有効なレコード']=len(df)-(dfcol['ヌル値']+dfcol['空白文字'])\n",
    "dfcol['非欠損値の割合']=dfcol['有効なレコード']/len(df)*100\n",
    "dfcol"
   ]
  },
  {
   "cell_type": "code",
   "execution_count": 12,
   "metadata": {},
   "outputs": [
    {
     "data": {
      "text/html": [
       "<div>\n",
       "<style scoped>\n",
       "    .dataframe tbody tr th:only-of-type {\n",
       "        vertical-align: middle;\n",
       "    }\n",
       "\n",
       "    .dataframe tbody tr th {\n",
       "        vertical-align: top;\n",
       "    }\n",
       "\n",
       "    .dataframe thead th {\n",
       "        text-align: right;\n",
       "    }\n",
       "</style>\n",
       "<table border=\"1\" class=\"dataframe\">\n",
       "  <thead>\n",
       "    <tr style=\"text-align: right;\">\n",
       "      <th></th>\n",
       "      <th>非欠損値の割合</th>\n",
       "      <th>有効なレコード</th>\n",
       "      <th>ヌル値</th>\n",
       "      <th>空文字</th>\n",
       "      <th>空白文字</th>\n",
       "    </tr>\n",
       "  </thead>\n",
       "  <tbody>\n",
       "    <tr>\n",
       "      <th>CustID</th>\n",
       "      <td>100</td>\n",
       "      <td>2464</td>\n",
       "      <td>0</td>\n",
       "      <td>0</td>\n",
       "      <td>0</td>\n",
       "    </tr>\n",
       "    <tr>\n",
       "      <th>Age</th>\n",
       "      <td>99.8782</td>\n",
       "      <td>2461</td>\n",
       "      <td>3</td>\n",
       "      <td>0</td>\n",
       "      <td>0</td>\n",
       "    </tr>\n",
       "    <tr>\n",
       "      <th>Car_loans</th>\n",
       "      <td>99.9188</td>\n",
       "      <td>2462</td>\n",
       "      <td>0</td>\n",
       "      <td>2</td>\n",
       "      <td>2</td>\n",
       "    </tr>\n",
       "    <tr>\n",
       "      <th>Credit_cards</th>\n",
       "      <td>99.9188</td>\n",
       "      <td>2462</td>\n",
       "      <td>0</td>\n",
       "      <td>2</td>\n",
       "      <td>2</td>\n",
       "    </tr>\n",
       "    <tr>\n",
       "      <th>Education</th>\n",
       "      <td>99.7971</td>\n",
       "      <td>2459</td>\n",
       "      <td>0</td>\n",
       "      <td>4</td>\n",
       "      <td>5</td>\n",
       "    </tr>\n",
       "    <tr>\n",
       "      <th>Income</th>\n",
       "      <td>99.9188</td>\n",
       "      <td>2462</td>\n",
       "      <td>0</td>\n",
       "      <td>2</td>\n",
       "      <td>2</td>\n",
       "    </tr>\n",
       "    <tr>\n",
       "      <th>Risk</th>\n",
       "      <td>99.9594</td>\n",
       "      <td>2463</td>\n",
       "      <td>0</td>\n",
       "      <td>1</td>\n",
       "      <td>1</td>\n",
       "    </tr>\n",
       "  </tbody>\n",
       "</table>\n",
       "</div>"
      ],
      "text/plain": [
       "              非欠損値の割合 有効なレコード ヌル値 空文字 空白文字\n",
       "CustID            100    2464   0   0    0\n",
       "Age           99.8782    2461   3   0    0\n",
       "Car_loans     99.9188    2462   0   2    2\n",
       "Credit_cards  99.9188    2462   0   2    2\n",
       "Education     99.7971    2459   0   4    5\n",
       "Income        99.9188    2462   0   2    2\n",
       "Risk          99.9594    2463   0   1    1"
      ]
     },
     "execution_count": 12,
     "metadata": {},
     "output_type": "execute_result"
    }
   ],
   "source": [
    "#欠損値\n",
    "colnames=['非欠損値の割合','有効なレコード','ヌル値','空文字','空白文字']\n",
    "dfcol=pd.DataFrame(index=df.columns,columns=colnames)\n",
    "\n",
    "#ヌル\n",
    "for i,col in enumerate(dfcol.index):\n",
    "    if df[col].dtype.name=='category':\n",
    "        dfcol.iloc[i,colnames.index('ヌル値')]=0\n",
    "    elif re.sub(r'[0-9]+', '', df[col].dtype.name) in ['int','float']:\n",
    "        dfcol.iloc[i,colnames.index('ヌル値')]=df[col].isnull().sum()\n",
    "#空文字列\n",
    "for i,col in enumerate(dfcol.index):\n",
    "    if df[col].dtype.name=='category':\n",
    "        dfcol.iloc[i,colnames.index('空文字')]=df[col].isnull().sum()\n",
    "    elif re.sub(r'[0-9]+', '', df[col].dtype.name) in ['int','float']:\n",
    "        dfcol.iloc[i,colnames.index('空文字')]=0\n",
    "#空白文字\n",
    "for i,col in enumerate(dfcol.index):\n",
    "    if df[col].dtype.name=='category':\n",
    "        dfcol.iloc[i,colnames.index('空白文字')]=((df[col].str.match(r'^ +$'))).sum()+dfcol.iloc[i,colnames.index('空文字')]\n",
    "    elif re.sub(r'[0-9]+', '', df[col].dtype.name) in ['int','float']:\n",
    "        dfcol.iloc[i,colnames.index('空白文字')]=0\n",
    "#有効なレコード\n",
    "dfcol['有効なレコード']=len(df)-(dfcol['ヌル値']+dfcol['空白文字'])\n",
    "dfcol['非欠損値の割合']=dfcol['有効なレコード']/len(df)*100\n",
    "dfcol"
   ]
  },
  {
   "cell_type": "code",
   "execution_count": 13,
   "metadata": {},
   "outputs": [
    {
     "name": "stdout",
     "output_type": "stream",
     "text": [
      "3.8.5 (default, Sep  3 2020, 21:29:08) [MSC v.1916 64 bit (AMD64)]\n"
     ]
    }
   ],
   "source": [
    "import sys\n",
    "\n",
    "print(sys.version)"
   ]
  },
  {
   "cell_type": "code",
   "execution_count": 14,
   "metadata": {},
   "outputs": [
    {
     "name": "stdout",
     "output_type": "stream",
     "text": [
      "1.0.5\n"
     ]
    }
   ],
   "source": [
    "print(pd.__version__)"
   ]
  },
  {
   "cell_type": "code",
   "execution_count": null,
   "metadata": {},
   "outputs": [],
   "source": []
  }
 ],
 "metadata": {
  "kernelspec": {
   "display_name": "Python 3",
   "language": "python",
   "name": "python3"
  },
  "language_info": {
   "codemirror_mode": {
    "name": "ipython",
    "version": 3
   },
   "file_extension": ".py",
   "mimetype": "text/x-python",
   "name": "python",
   "nbconvert_exporter": "python",
   "pygments_lexer": "ipython3",
   "version": "3.8.5"
  }
 },
 "nbformat": 4,
 "nbformat_minor": 1
}

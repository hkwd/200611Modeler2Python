{
 "cells": [
  {
   "cell_type": "markdown",
   "metadata": {},
   "source": [
    "# SPSS Modelerのタイムスタンプ関連clem関数をPythonで書き換える。\n",
    "\n",
    "\n",
    "■利用データ<BR>\n",
    "タイムスタンプ(TS),電力(Power),温度(Temperature),圧力(Pressure),起動時間(Uptime),状態(Status),エラーコード(Outcome)が記録された時系列のセンターデータを使います。毎分のセンサーの値が記録されています。今回はこの中のTSのみを使います。\n",
    "\n",
    "![image.png](https://qiita-image-store.s3.ap-northeast-1.amazonaws.com/0/223763/59840a58-0896-227e-fb86-f127ea04b7b6.png)\n"
   ]
  },
  {
   "cell_type": "code",
   "execution_count": 2,
   "metadata": {},
   "outputs": [
    {
     "name": "stderr",
     "output_type": "stream",
     "text": [
      "'wget' は、内部コマンドまたは外部コマンド、\n",
      "操作可能なプログラムまたはバッチ ファイルとして認識されていません。\n"
     ]
    }
   ],
   "source": [
    "!wget https://raw.githubusercontent.com/hkwd/200611Modeler2Python/master/data/Cond4n_e.csv"
   ]
  },
  {
   "cell_type": "markdown",
   "metadata": {},
   "source": [
    "# ①タイムスタンプデータの読み込み\n",
    "Pythonのタイムスタンプ型の確認"
   ]
  },
  {
   "cell_type": "code",
   "execution_count": 3,
   "metadata": {},
   "outputs": [
    {
     "name": "stdout",
     "output_type": "stream",
     "text": [
      "2021-06-10 03:11:00\n",
      "<class 'datetime.datetime'>\n",
      "2021-06-10T03:11:00\n",
      "<class 'numpy.datetime64'>\n",
      "2021-06-10 03:11:00\n",
      "<class 'pandas._libs.tslibs.timestamps.Timestamp'>\n",
      "datetime      datetime64[ns]\n",
      "npdatetime    datetime64[ns]\n",
      "pddatetime    datetime64[ns]\n",
      "dtype: object\n",
      "<class 'pandas._libs.tslibs.timestamps.Timestamp'>\n",
      "<class 'pandas._libs.tslibs.timestamps.Timestamp'>\n",
      "<class 'pandas._libs.tslibs.timestamps.Timestamp'>\n"
     ]
    },
    {
     "data": {
      "text/html": [
       "<div>\n",
       "<style scoped>\n",
       "    .dataframe tbody tr th:only-of-type {\n",
       "        vertical-align: middle;\n",
       "    }\n",
       "\n",
       "    .dataframe tbody tr th {\n",
       "        vertical-align: top;\n",
       "    }\n",
       "\n",
       "    .dataframe thead th {\n",
       "        text-align: right;\n",
       "    }\n",
       "</style>\n",
       "<table border=\"1\" class=\"dataframe\">\n",
       "  <thead>\n",
       "    <tr style=\"text-align: right;\">\n",
       "      <th></th>\n",
       "      <th>datetime</th>\n",
       "      <th>npdatetime</th>\n",
       "      <th>pddatetime</th>\n",
       "    </tr>\n",
       "  </thead>\n",
       "  <tbody>\n",
       "    <tr>\n",
       "      <th>0</th>\n",
       "      <td>2021-06-10 03:11:00</td>\n",
       "      <td>2021-06-10 03:11:00</td>\n",
       "      <td>2021-06-10 03:11:00</td>\n",
       "    </tr>\n",
       "  </tbody>\n",
       "</table>\n",
       "</div>"
      ],
      "text/plain": [
       "             datetime          npdatetime          pddatetime\n",
       "0 2021-06-10 03:11:00 2021-06-10 03:11:00 2021-06-10 03:11:00"
      ]
     },
     "execution_count": 3,
     "metadata": {},
     "output_type": "execute_result"
    }
   ],
   "source": [
    "import datetime\n",
    "import numpy as np\n",
    "import pandas as pd\n",
    "\n",
    "#datetime.datetime\n",
    "dtdt=datetime.datetime(2021, 6, 10, 3, 11, 0)\n",
    "print(dtdt)\n",
    "print(type(dtdt))\n",
    "\n",
    "#numpy.datetime64\n",
    "npdt=np.datetime64('2021-06-10 03:11:00')\n",
    "print(npdt)\n",
    "print(type(npdt))\n",
    "\n",
    "#pandas._libs.tslibs.timestamps.Timestamp\n",
    "pddt=pd.to_datetime('2021-06-10 03:11:00')\n",
    "print(pddt)\n",
    "print(type(pddt))\n",
    "\n",
    "dfdt =pd.DataFrame({'datetime':[dtdt],\n",
    "                   'npdatetime':[npdt],\n",
    "                   'pddatetime':[pddt]})\n",
    "print(dfdt.dtypes)\n",
    "print(type(dfdt['datetime'][0]))\n",
    "print(type(dfdt['npdatetime'][0]))\n",
    "print(type(dfdt['pddatetime'][0]))\n",
    "dfdt"
   ]
  },
  {
   "cell_type": "markdown",
   "metadata": {},
   "source": [
    "csvファイルから読むこむときにはパースしてタイムスタンプ型として読み込むことができます。\n",
    "![image.png](https://qiita-image-store.s3.ap-northeast-1.amazonaws.com/0/223763/a8eb965d-56c3-166d-4093-990a381c230e.png)"
   ]
  },
  {
   "cell_type": "code",
   "execution_count": 4,
   "metadata": {
    "scrolled": true
   },
   "outputs": [
    {
     "name": "stdout",
     "output_type": "stream",
     "text": [
      "TS             datetime64[ns]\n",
      "Power                   int64\n",
      "Temperature             int64\n",
      "Pressure                int64\n",
      "Uptime                  int64\n",
      "Status                  int64\n",
      "Outcome                 int64\n",
      "dtype: object\n",
      "<class 'pandas._libs.tslibs.timestamps.Timestamp'>\n"
     ]
    },
    {
     "data": {
      "text/html": [
       "<div>\n",
       "<style scoped>\n",
       "    .dataframe tbody tr th:only-of-type {\n",
       "        vertical-align: middle;\n",
       "    }\n",
       "\n",
       "    .dataframe tbody tr th {\n",
       "        vertical-align: top;\n",
       "    }\n",
       "\n",
       "    .dataframe thead th {\n",
       "        text-align: right;\n",
       "    }\n",
       "</style>\n",
       "<table border=\"1\" class=\"dataframe\">\n",
       "  <thead>\n",
       "    <tr style=\"text-align: right;\">\n",
       "      <th></th>\n",
       "      <th>TS</th>\n",
       "      <th>Power</th>\n",
       "      <th>Temperature</th>\n",
       "      <th>Pressure</th>\n",
       "      <th>Uptime</th>\n",
       "      <th>Status</th>\n",
       "      <th>Outcome</th>\n",
       "    </tr>\n",
       "  </thead>\n",
       "  <tbody>\n",
       "    <tr>\n",
       "      <th>0</th>\n",
       "      <td>2021-04-01 03:10:00</td>\n",
       "      <td>1079</td>\n",
       "      <td>308</td>\n",
       "      <td>0</td>\n",
       "      <td>3</td>\n",
       "      <td>0</td>\n",
       "      <td>202</td>\n",
       "    </tr>\n",
       "    <tr>\n",
       "      <th>1</th>\n",
       "      <td>2021-04-01 03:11:00</td>\n",
       "      <td>1083</td>\n",
       "      <td>308</td>\n",
       "      <td>0</td>\n",
       "      <td>3</td>\n",
       "      <td>0</td>\n",
       "      <td>202</td>\n",
       "    </tr>\n",
       "    <tr>\n",
       "      <th>2</th>\n",
       "      <td>2021-04-01 03:12:00</td>\n",
       "      <td>1080</td>\n",
       "      <td>309</td>\n",
       "      <td>0</td>\n",
       "      <td>3</td>\n",
       "      <td>0</td>\n",
       "      <td>202</td>\n",
       "    </tr>\n",
       "    <tr>\n",
       "      <th>3</th>\n",
       "      <td>2021-04-01 03:13:00</td>\n",
       "      <td>1080</td>\n",
       "      <td>309</td>\n",
       "      <td>0</td>\n",
       "      <td>3</td>\n",
       "      <td>0</td>\n",
       "      <td>202</td>\n",
       "    </tr>\n",
       "  </tbody>\n",
       "</table>\n",
       "</div>"
      ],
      "text/plain": [
       "                   TS  Power  Temperature  Pressure  Uptime  Status  Outcome\n",
       "0 2021-04-01 03:10:00   1079          308         0       3       0      202\n",
       "1 2021-04-01 03:11:00   1083          308         0       3       0      202\n",
       "2 2021-04-01 03:12:00   1080          309         0       3       0      202\n",
       "3 2021-04-01 03:13:00   1080          309         0       3       0      202"
      ]
     },
     "execution_count": 4,
     "metadata": {},
     "output_type": "execute_result"
    }
   ],
   "source": [
    "\n",
    "import types\n",
    "import pandas as pd\n",
    "from botocore.client import Config\n",
    "import ibm_boto3\n",
    "\n",
    "def __iter__(self): return 0\n",
    "pd.options.display.max_rows = 10\n",
    "#print(pd.options.display.max_rows)\n",
    "\n",
    "import pandas as pd\n",
    "#df = pd.read_csv('sampletranDEPT4en2019S.csv', parse_dates=[1])\n",
    "df = pd.read_csv('COND2nts.csv', parse_dates=['TS'])\n",
    "print(df.dtypes)\n",
    "print(type(df['TS'][0]))\n",
    "df"
   ]
  },
  {
   "cell_type": "markdown",
   "metadata": {},
   "source": [
    "# ② 文字列や数値からのタイムスタンプデータ生成\n",
    "\n"
   ]
  },
  {
   "cell_type": "markdown",
   "metadata": {},
   "source": [
    "文字列および数値から日付型データ生成\n",
    "![image.png](https://qiita-image-store.s3.ap-northeast-1.amazonaws.com/0/223763/34de417c-b214-9c47-15aa-cbc5e0d89689.png)\n",
    "![image.png](https://qiita-image-store.s3.ap-northeast-1.amazonaws.com/0/223763/e5b11c2d-183e-b02e-7630-a98029855bda.png)\n",
    "\n"
   ]
  },
  {
   "cell_type": "code",
   "execution_count": 5,
   "metadata": {},
   "outputs": [
    {
     "name": "stdout",
     "output_type": "stream",
     "text": [
      "TS             datetime64[ns]\n",
      "Power                   int64\n",
      "Temperature             int64\n",
      "Pressure                int64\n",
      "Uptime                  int64\n",
      "Status                  int64\n",
      "Outcome                 int64\n",
      "REF_TS         datetime64[ns]\n",
      "REF_TS2        datetime64[ns]\n",
      "dtype: object\n"
     ]
    },
    {
     "data": {
      "text/html": [
       "<div>\n",
       "<style scoped>\n",
       "    .dataframe tbody tr th:only-of-type {\n",
       "        vertical-align: middle;\n",
       "    }\n",
       "\n",
       "    .dataframe tbody tr th {\n",
       "        vertical-align: top;\n",
       "    }\n",
       "\n",
       "    .dataframe thead th {\n",
       "        text-align: right;\n",
       "    }\n",
       "</style>\n",
       "<table border=\"1\" class=\"dataframe\">\n",
       "  <thead>\n",
       "    <tr style=\"text-align: right;\">\n",
       "      <th></th>\n",
       "      <th>TS</th>\n",
       "      <th>Power</th>\n",
       "      <th>Temperature</th>\n",
       "      <th>Pressure</th>\n",
       "      <th>Uptime</th>\n",
       "      <th>Status</th>\n",
       "      <th>Outcome</th>\n",
       "      <th>REF_TS</th>\n",
       "      <th>REF_TS2</th>\n",
       "    </tr>\n",
       "  </thead>\n",
       "  <tbody>\n",
       "    <tr>\n",
       "      <th>0</th>\n",
       "      <td>2021-04-01 03:10:00</td>\n",
       "      <td>1079</td>\n",
       "      <td>308</td>\n",
       "      <td>0</td>\n",
       "      <td>3</td>\n",
       "      <td>0</td>\n",
       "      <td>202</td>\n",
       "      <td>2021-04-01 03:11:00</td>\n",
       "      <td>2021-04-01 03:11:00</td>\n",
       "    </tr>\n",
       "    <tr>\n",
       "      <th>1</th>\n",
       "      <td>2021-04-01 03:11:00</td>\n",
       "      <td>1083</td>\n",
       "      <td>308</td>\n",
       "      <td>0</td>\n",
       "      <td>3</td>\n",
       "      <td>0</td>\n",
       "      <td>202</td>\n",
       "      <td>2021-04-01 03:11:00</td>\n",
       "      <td>2021-04-01 03:11:00</td>\n",
       "    </tr>\n",
       "    <tr>\n",
       "      <th>2</th>\n",
       "      <td>2021-04-01 03:12:00</td>\n",
       "      <td>1080</td>\n",
       "      <td>309</td>\n",
       "      <td>0</td>\n",
       "      <td>3</td>\n",
       "      <td>0</td>\n",
       "      <td>202</td>\n",
       "      <td>2021-04-01 03:11:00</td>\n",
       "      <td>2021-04-01 03:11:00</td>\n",
       "    </tr>\n",
       "    <tr>\n",
       "      <th>3</th>\n",
       "      <td>2021-04-01 03:13:00</td>\n",
       "      <td>1080</td>\n",
       "      <td>309</td>\n",
       "      <td>0</td>\n",
       "      <td>3</td>\n",
       "      <td>0</td>\n",
       "      <td>202</td>\n",
       "      <td>2021-04-01 03:11:00</td>\n",
       "      <td>2021-04-01 03:11:00</td>\n",
       "    </tr>\n",
       "  </tbody>\n",
       "</table>\n",
       "</div>"
      ],
      "text/plain": [
       "                   TS  Power  Temperature  Pressure  Uptime  Status  Outcome  \\\n",
       "0 2021-04-01 03:10:00   1079          308         0       3       0      202   \n",
       "1 2021-04-01 03:11:00   1083          308         0       3       0      202   \n",
       "2 2021-04-01 03:12:00   1080          309         0       3       0      202   \n",
       "3 2021-04-01 03:13:00   1080          309         0       3       0      202   \n",
       "\n",
       "               REF_TS             REF_TS2  \n",
       "0 2021-04-01 03:11:00 2021-04-01 03:11:00  \n",
       "1 2021-04-01 03:11:00 2021-04-01 03:11:00  \n",
       "2 2021-04-01 03:11:00 2021-04-01 03:11:00  \n",
       "3 2021-04-01 03:11:00 2021-04-01 03:11:00  "
      ]
     },
     "execution_count": 5,
     "metadata": {},
     "output_type": "execute_result"
    }
   ],
   "source": [
    "import datetime\n",
    "df1=df.copy()\n",
    "#文字列から日付型データ生成\n",
    "df1['REF_TS']=pd.to_datetime('2021-04-01 03:11:00')\n",
    "#数値から日付型データ生成\n",
    "df1['REF_TS2']=datetime.datetime(2021,4,1,3,11,0)\n",
    "#pd.to_datetimeでの変換は不要\n",
    "#df1['REF_TS2']=pd.to_datetime(datetime.datetime(2021,4,1,3,11,0))\n",
    "print(df1.dtypes)\n",
    "df1"
   ]
  },
  {
   "cell_type": "markdown",
   "metadata": {},
   "source": [
    "# ③ 現在タイムスタンプの取得\n",
    "![image.png](https://qiita-image-store.s3.ap-northeast-1.amazonaws.com/0/223763/3f70309c-7f22-caab-369c-0e831de39f81.png)\n",
    "\n"
   ]
  },
  {
   "cell_type": "code",
   "execution_count": 6,
   "metadata": {
    "scrolled": false
   },
   "outputs": [
    {
     "name": "stdout",
     "output_type": "stream",
     "text": [
      "TS             datetime64[ns]\n",
      "Power                   int64\n",
      "Temperature             int64\n",
      "Pressure                int64\n",
      "Uptime                  int64\n",
      "Status                  int64\n",
      "Outcome                 int64\n",
      "TODAYTS        datetime64[ns]\n",
      "dtype: object\n"
     ]
    },
    {
     "data": {
      "text/html": [
       "<div>\n",
       "<style scoped>\n",
       "    .dataframe tbody tr th:only-of-type {\n",
       "        vertical-align: middle;\n",
       "    }\n",
       "\n",
       "    .dataframe tbody tr th {\n",
       "        vertical-align: top;\n",
       "    }\n",
       "\n",
       "    .dataframe thead th {\n",
       "        text-align: right;\n",
       "    }\n",
       "</style>\n",
       "<table border=\"1\" class=\"dataframe\">\n",
       "  <thead>\n",
       "    <tr style=\"text-align: right;\">\n",
       "      <th></th>\n",
       "      <th>TS</th>\n",
       "      <th>Power</th>\n",
       "      <th>Temperature</th>\n",
       "      <th>Pressure</th>\n",
       "      <th>Uptime</th>\n",
       "      <th>Status</th>\n",
       "      <th>Outcome</th>\n",
       "      <th>TODAYTS</th>\n",
       "    </tr>\n",
       "  </thead>\n",
       "  <tbody>\n",
       "    <tr>\n",
       "      <th>0</th>\n",
       "      <td>2021-04-01 03:10:00</td>\n",
       "      <td>1079</td>\n",
       "      <td>308</td>\n",
       "      <td>0</td>\n",
       "      <td>3</td>\n",
       "      <td>0</td>\n",
       "      <td>202</td>\n",
       "      <td>2021-06-21 13:29:22.376219</td>\n",
       "    </tr>\n",
       "    <tr>\n",
       "      <th>1</th>\n",
       "      <td>2021-04-01 03:11:00</td>\n",
       "      <td>1083</td>\n",
       "      <td>308</td>\n",
       "      <td>0</td>\n",
       "      <td>3</td>\n",
       "      <td>0</td>\n",
       "      <td>202</td>\n",
       "      <td>2021-06-21 13:29:22.376219</td>\n",
       "    </tr>\n",
       "    <tr>\n",
       "      <th>2</th>\n",
       "      <td>2021-04-01 03:12:00</td>\n",
       "      <td>1080</td>\n",
       "      <td>309</td>\n",
       "      <td>0</td>\n",
       "      <td>3</td>\n",
       "      <td>0</td>\n",
       "      <td>202</td>\n",
       "      <td>2021-06-21 13:29:22.376219</td>\n",
       "    </tr>\n",
       "    <tr>\n",
       "      <th>3</th>\n",
       "      <td>2021-04-01 03:13:00</td>\n",
       "      <td>1080</td>\n",
       "      <td>309</td>\n",
       "      <td>0</td>\n",
       "      <td>3</td>\n",
       "      <td>0</td>\n",
       "      <td>202</td>\n",
       "      <td>2021-06-21 13:29:22.376219</td>\n",
       "    </tr>\n",
       "  </tbody>\n",
       "</table>\n",
       "</div>"
      ],
      "text/plain": [
       "                   TS  Power  Temperature  Pressure  Uptime  Status  Outcome  \\\n",
       "0 2021-04-01 03:10:00   1079          308         0       3       0      202   \n",
       "1 2021-04-01 03:11:00   1083          308         0       3       0      202   \n",
       "2 2021-04-01 03:12:00   1080          309         0       3       0      202   \n",
       "3 2021-04-01 03:13:00   1080          309         0       3       0      202   \n",
       "\n",
       "                     TODAYTS  \n",
       "0 2021-06-21 13:29:22.376219  \n",
       "1 2021-06-21 13:29:22.376219  \n",
       "2 2021-06-21 13:29:22.376219  \n",
       "3 2021-06-21 13:29:22.376219  "
      ]
     },
     "execution_count": 6,
     "metadata": {},
     "output_type": "execute_result"
    }
   ],
   "source": [
    "import datetime\n",
    "df2=df.copy()\n",
    "df2['TODAYTS']=datetime.datetime.now()\n",
    "#以下でも動作するがマニュアルに見当たらなかった。\n",
    "#df2['TODAY']=np.datetime64('now')\n",
    "print(df2.dtypes)\n",
    "#print(type(df2['TODAY'][0]))\n",
    "df2"
   ]
  },
  {
   "cell_type": "markdown",
   "metadata": {},
   "source": [
    "Pythonで現在時刻・日付・日時を取得 | note.nkmk.me \n",
    "<br>https://note.nkmk.me/python-datetime-now-today/\n",
    "<br>date - Python - Get current time in numpy datetime64 format - Stack Overflow \n",
    "<br>https://stackoverflow.com/questions/19461258/python-get-current-time-in-numpy-datetime64-format/44602127"
   ]
  },
  {
   "cell_type": "markdown",
   "metadata": {},
   "source": [
    "#  ④タイムスタンプの年、月、日、時、分、秒の分解\n",
    "![image.png](https://qiita-image-store.s3.ap-northeast-1.amazonaws.com/0/223763/0e387c23-f251-645b-f35d-7c0bc3911bbc.png)\n"
   ]
  },
  {
   "cell_type": "code",
   "execution_count": 7,
   "metadata": {},
   "outputs": [
    {
     "name": "stdout",
     "output_type": "stream",
     "text": [
      "TS             datetime64[ns]\n",
      "Power                   int64\n",
      "Temperature             int64\n",
      "Pressure                int64\n",
      "Uptime                  int64\n",
      "Status                  int64\n",
      "Outcome                 int64\n",
      "MIN                     int64\n",
      "dtype: object\n"
     ]
    },
    {
     "data": {
      "text/html": [
       "<div>\n",
       "<style scoped>\n",
       "    .dataframe tbody tr th:only-of-type {\n",
       "        vertical-align: middle;\n",
       "    }\n",
       "\n",
       "    .dataframe tbody tr th {\n",
       "        vertical-align: top;\n",
       "    }\n",
       "\n",
       "    .dataframe thead th {\n",
       "        text-align: right;\n",
       "    }\n",
       "</style>\n",
       "<table border=\"1\" class=\"dataframe\">\n",
       "  <thead>\n",
       "    <tr style=\"text-align: right;\">\n",
       "      <th></th>\n",
       "      <th>TS</th>\n",
       "      <th>Power</th>\n",
       "      <th>Temperature</th>\n",
       "      <th>Pressure</th>\n",
       "      <th>Uptime</th>\n",
       "      <th>Status</th>\n",
       "      <th>Outcome</th>\n",
       "      <th>MIN</th>\n",
       "    </tr>\n",
       "  </thead>\n",
       "  <tbody>\n",
       "    <tr>\n",
       "      <th>0</th>\n",
       "      <td>2021-04-01 03:10:00</td>\n",
       "      <td>1079</td>\n",
       "      <td>308</td>\n",
       "      <td>0</td>\n",
       "      <td>3</td>\n",
       "      <td>0</td>\n",
       "      <td>202</td>\n",
       "      <td>10</td>\n",
       "    </tr>\n",
       "    <tr>\n",
       "      <th>1</th>\n",
       "      <td>2021-04-01 03:11:00</td>\n",
       "      <td>1083</td>\n",
       "      <td>308</td>\n",
       "      <td>0</td>\n",
       "      <td>3</td>\n",
       "      <td>0</td>\n",
       "      <td>202</td>\n",
       "      <td>11</td>\n",
       "    </tr>\n",
       "    <tr>\n",
       "      <th>2</th>\n",
       "      <td>2021-04-01 03:12:00</td>\n",
       "      <td>1080</td>\n",
       "      <td>309</td>\n",
       "      <td>0</td>\n",
       "      <td>3</td>\n",
       "      <td>0</td>\n",
       "      <td>202</td>\n",
       "      <td>12</td>\n",
       "    </tr>\n",
       "    <tr>\n",
       "      <th>3</th>\n",
       "      <td>2021-04-01 03:13:00</td>\n",
       "      <td>1080</td>\n",
       "      <td>309</td>\n",
       "      <td>0</td>\n",
       "      <td>3</td>\n",
       "      <td>0</td>\n",
       "      <td>202</td>\n",
       "      <td>13</td>\n",
       "    </tr>\n",
       "  </tbody>\n",
       "</table>\n",
       "</div>"
      ],
      "text/plain": [
       "                   TS  Power  Temperature  Pressure  Uptime  Status  Outcome  \\\n",
       "0 2021-04-01 03:10:00   1079          308         0       3       0      202   \n",
       "1 2021-04-01 03:11:00   1083          308         0       3       0      202   \n",
       "2 2021-04-01 03:12:00   1080          309         0       3       0      202   \n",
       "3 2021-04-01 03:13:00   1080          309         0       3       0      202   \n",
       "\n",
       "   MIN  \n",
       "0   10  \n",
       "1   11  \n",
       "2   12  \n",
       "3   13  "
      ]
     },
     "execution_count": 7,
     "metadata": {},
     "output_type": "execute_result"
    }
   ],
   "source": [
    "df3=df.copy()\n",
    "df3['MIN']=df3['TS'].dt.minute\n",
    "print(df3.dtypes)\n",
    "df3"
   ]
  },
  {
   "cell_type": "markdown",
   "metadata": {},
   "source": [
    "pandasで日付・時間の列を処理（文字列変換、年月日抽出など） | note.nkmk.me https://note.nkmk.me/python-pandas-datetime-timestamp/"
   ]
  },
  {
   "cell_type": "markdown",
   "metadata": {},
   "source": [
    "# ⑤ タイムスタンプの差の計算　\n",
    "![image.png](https://qiita-image-store.s3.ap-northeast-1.amazonaws.com/0/223763/c01b01af-6dac-b675-6f9c-562af22e5fce.png)\n"
   ]
  },
  {
   "cell_type": "code",
   "execution_count": 8,
   "metadata": {},
   "outputs": [
    {
     "name": "stdout",
     "output_type": "stream",
     "text": [
      "<class 'pandas._libs.tslibs.timedeltas.Timedelta'>\n",
      "TS              datetime64[ns]\n",
      "Power                    int64\n",
      "Temperature              int64\n",
      "Pressure                 int64\n",
      "Uptime                   int64\n",
      "                    ...       \n",
      "REF_TS          datetime64[ns]\n",
      "TS_DIFF_TD     timedelta64[ns]\n",
      "TS_DIFF秒                 int32\n",
      "TS_DIFF分               float64\n",
      "TS_DIFF時               float64\n",
      "Length: 12, dtype: object\n"
     ]
    },
    {
     "data": {
      "text/html": [
       "<div>\n",
       "<style scoped>\n",
       "    .dataframe tbody tr th:only-of-type {\n",
       "        vertical-align: middle;\n",
       "    }\n",
       "\n",
       "    .dataframe tbody tr th {\n",
       "        vertical-align: top;\n",
       "    }\n",
       "\n",
       "    .dataframe thead th {\n",
       "        text-align: right;\n",
       "    }\n",
       "</style>\n",
       "<table border=\"1\" class=\"dataframe\">\n",
       "  <thead>\n",
       "    <tr style=\"text-align: right;\">\n",
       "      <th></th>\n",
       "      <th>TS</th>\n",
       "      <th>Power</th>\n",
       "      <th>Temperature</th>\n",
       "      <th>Pressure</th>\n",
       "      <th>Uptime</th>\n",
       "      <th>Status</th>\n",
       "      <th>Outcome</th>\n",
       "      <th>REF_TS</th>\n",
       "      <th>TS_DIFF_TD</th>\n",
       "      <th>TS_DIFF秒</th>\n",
       "      <th>TS_DIFF分</th>\n",
       "      <th>TS_DIFF時</th>\n",
       "    </tr>\n",
       "  </thead>\n",
       "  <tbody>\n",
       "    <tr>\n",
       "      <th>0</th>\n",
       "      <td>2021-04-01 03:10:00</td>\n",
       "      <td>1079</td>\n",
       "      <td>308</td>\n",
       "      <td>0</td>\n",
       "      <td>3</td>\n",
       "      <td>0</td>\n",
       "      <td>202</td>\n",
       "      <td>2021-04-01 03:11:00</td>\n",
       "      <td>-1 days +23:59:00</td>\n",
       "      <td>-60</td>\n",
       "      <td>-1.0</td>\n",
       "      <td>-0.016667</td>\n",
       "    </tr>\n",
       "    <tr>\n",
       "      <th>1</th>\n",
       "      <td>2021-04-01 03:11:00</td>\n",
       "      <td>1083</td>\n",
       "      <td>308</td>\n",
       "      <td>0</td>\n",
       "      <td>3</td>\n",
       "      <td>0</td>\n",
       "      <td>202</td>\n",
       "      <td>2021-04-01 03:11:00</td>\n",
       "      <td>00:00:00</td>\n",
       "      <td>0</td>\n",
       "      <td>0.0</td>\n",
       "      <td>0.000000</td>\n",
       "    </tr>\n",
       "    <tr>\n",
       "      <th>2</th>\n",
       "      <td>2021-04-01 03:12:00</td>\n",
       "      <td>1080</td>\n",
       "      <td>309</td>\n",
       "      <td>0</td>\n",
       "      <td>3</td>\n",
       "      <td>0</td>\n",
       "      <td>202</td>\n",
       "      <td>2021-04-01 03:11:00</td>\n",
       "      <td>00:01:00</td>\n",
       "      <td>60</td>\n",
       "      <td>1.0</td>\n",
       "      <td>0.016667</td>\n",
       "    </tr>\n",
       "    <tr>\n",
       "      <th>3</th>\n",
       "      <td>2021-04-01 03:13:00</td>\n",
       "      <td>1080</td>\n",
       "      <td>309</td>\n",
       "      <td>0</td>\n",
       "      <td>3</td>\n",
       "      <td>0</td>\n",
       "      <td>202</td>\n",
       "      <td>2021-04-01 03:11:00</td>\n",
       "      <td>00:02:00</td>\n",
       "      <td>120</td>\n",
       "      <td>2.0</td>\n",
       "      <td>0.033333</td>\n",
       "    </tr>\n",
       "  </tbody>\n",
       "</table>\n",
       "</div>"
      ],
      "text/plain": [
       "                   TS  Power  Temperature  Pressure  Uptime  Status  Outcome  \\\n",
       "0 2021-04-01 03:10:00   1079          308         0       3       0      202   \n",
       "1 2021-04-01 03:11:00   1083          308         0       3       0      202   \n",
       "2 2021-04-01 03:12:00   1080          309         0       3       0      202   \n",
       "3 2021-04-01 03:13:00   1080          309         0       3       0      202   \n",
       "\n",
       "               REF_TS        TS_DIFF_TD  TS_DIFF秒  TS_DIFF分  TS_DIFF時  \n",
       "0 2021-04-01 03:11:00 -1 days +23:59:00       -60      -1.0 -0.016667  \n",
       "1 2021-04-01 03:11:00          00:00:00         0       0.0  0.000000  \n",
       "2 2021-04-01 03:11:00          00:01:00        60       1.0  0.016667  \n",
       "3 2021-04-01 03:11:00          00:02:00       120       2.0  0.033333  "
      ]
     },
     "execution_count": 8,
     "metadata": {},
     "output_type": "execute_result"
    }
   ],
   "source": [
    "df4=df.copy()\n",
    "#文字列から日付型データ生成\n",
    "df4['REF_TS']=pd.to_datetime('2021-04-01 03:11:00')\n",
    "\n",
    "df4[\"TS_DIFF_TD\"]=(df4[\"TS\"]-df4[\"REF_TS\"])\n",
    "print(type((df4[\"TS_DIFF_TD\"])[0]))\n",
    "\n",
    "#以下は見た目も分かりやすい\n",
    "df4[\"TS_DIFF秒\"]=(df4[\"TS\"]-df4[\"REF_TS\"]).dt.total_seconds().astype('int')\n",
    "df4[\"TS_DIFF分\"]=(df4[\"TS\"]-df4[\"REF_TS\"]).dt.total_seconds()/60\n",
    "df4[\"TS_DIFF時\"]=(df4[\"TS\"]-df4[\"REF_TS\"]).dt.total_seconds()/(60*60)\n",
    "\n",
    "#以下だとマイナスの時に間違った値が戻る\n",
    "#df4[\"TS_DIFF\"]=(df4[\"TS\"]-df4[\"REF_TS\"]).dt.seconds\n",
    "\n",
    "#以下でも計算はできる\n",
    "#df4[\"TS_DIFF秒\"]=((df4[\"TS\"]-df4[\"REF_TS\"]) /np.timedelta64(1,'s')).astype('int')\n",
    "#df4[\"TS_DIFF分\"]=((df4[\"TS\"]-df4[\"REF_TS\"]) /np.timedelta64(1,'m'))\n",
    "#df4[\"TS_DIFF時\"]=((df4[\"TS\"]-df4[\"REF_TS\"]) /np.timedelta64(1,'h'))\n",
    "\n",
    "print(df4.dtypes)\n",
    "df4\n"
   ]
  },
  {
   "cell_type": "markdown",
   "metadata": {},
   "source": [
    "# ⑥ タイムスタンプの大小比較\n",
    "![image.png](https://qiita-image-store.s3.ap-northeast-1.amazonaws.com/0/223763/a04e3726-de0a-b0c6-ed92-5b4fe1f6a4ea.png)\n"
   ]
  },
  {
   "cell_type": "code",
   "execution_count": 9,
   "metadata": {},
   "outputs": [
    {
     "name": "stdout",
     "output_type": "stream",
     "text": [
      "TS             datetime64[ns]\n",
      "Power                   int64\n",
      "Temperature             int64\n",
      "Pressure                int64\n",
      "Uptime                  int64\n",
      "Status                  int64\n",
      "Outcome                 int64\n",
      "REF_TS         datetime64[ns]\n",
      "AFTER_REF                bool\n",
      "dtype: object\n"
     ]
    },
    {
     "data": {
      "text/html": [
       "<div>\n",
       "<style scoped>\n",
       "    .dataframe tbody tr th:only-of-type {\n",
       "        vertical-align: middle;\n",
       "    }\n",
       "\n",
       "    .dataframe tbody tr th {\n",
       "        vertical-align: top;\n",
       "    }\n",
       "\n",
       "    .dataframe thead th {\n",
       "        text-align: right;\n",
       "    }\n",
       "</style>\n",
       "<table border=\"1\" class=\"dataframe\">\n",
       "  <thead>\n",
       "    <tr style=\"text-align: right;\">\n",
       "      <th></th>\n",
       "      <th>TS</th>\n",
       "      <th>Power</th>\n",
       "      <th>Temperature</th>\n",
       "      <th>Pressure</th>\n",
       "      <th>Uptime</th>\n",
       "      <th>Status</th>\n",
       "      <th>Outcome</th>\n",
       "      <th>REF_TS</th>\n",
       "      <th>AFTER_REF</th>\n",
       "    </tr>\n",
       "  </thead>\n",
       "  <tbody>\n",
       "    <tr>\n",
       "      <th>0</th>\n",
       "      <td>2021-04-01 03:10:00</td>\n",
       "      <td>1079</td>\n",
       "      <td>308</td>\n",
       "      <td>0</td>\n",
       "      <td>3</td>\n",
       "      <td>0</td>\n",
       "      <td>202</td>\n",
       "      <td>2021-04-01 03:11:00</td>\n",
       "      <td>False</td>\n",
       "    </tr>\n",
       "    <tr>\n",
       "      <th>1</th>\n",
       "      <td>2021-04-01 03:11:00</td>\n",
       "      <td>1083</td>\n",
       "      <td>308</td>\n",
       "      <td>0</td>\n",
       "      <td>3</td>\n",
       "      <td>0</td>\n",
       "      <td>202</td>\n",
       "      <td>2021-04-01 03:11:00</td>\n",
       "      <td>False</td>\n",
       "    </tr>\n",
       "    <tr>\n",
       "      <th>2</th>\n",
       "      <td>2021-04-01 03:12:00</td>\n",
       "      <td>1080</td>\n",
       "      <td>309</td>\n",
       "      <td>0</td>\n",
       "      <td>3</td>\n",
       "      <td>0</td>\n",
       "      <td>202</td>\n",
       "      <td>2021-04-01 03:11:00</td>\n",
       "      <td>True</td>\n",
       "    </tr>\n",
       "    <tr>\n",
       "      <th>3</th>\n",
       "      <td>2021-04-01 03:13:00</td>\n",
       "      <td>1080</td>\n",
       "      <td>309</td>\n",
       "      <td>0</td>\n",
       "      <td>3</td>\n",
       "      <td>0</td>\n",
       "      <td>202</td>\n",
       "      <td>2021-04-01 03:11:00</td>\n",
       "      <td>True</td>\n",
       "    </tr>\n",
       "  </tbody>\n",
       "</table>\n",
       "</div>"
      ],
      "text/plain": [
       "                   TS  Power  Temperature  Pressure  Uptime  Status  Outcome  \\\n",
       "0 2021-04-01 03:10:00   1079          308         0       3       0      202   \n",
       "1 2021-04-01 03:11:00   1083          308         0       3       0      202   \n",
       "2 2021-04-01 03:12:00   1080          309         0       3       0      202   \n",
       "3 2021-04-01 03:13:00   1080          309         0       3       0      202   \n",
       "\n",
       "               REF_TS  AFTER_REF  \n",
       "0 2021-04-01 03:11:00      False  \n",
       "1 2021-04-01 03:11:00      False  \n",
       "2 2021-04-01 03:11:00       True  \n",
       "3 2021-04-01 03:11:00       True  "
      ]
     },
     "execution_count": 9,
     "metadata": {},
     "output_type": "execute_result"
    }
   ],
   "source": [
    "df5=df.copy()\n",
    "#文字列から日付型データ生成\n",
    "df5['REF_TS']=pd.to_datetime('2021-04-01 03:11:00')\n",
    "\n",
    "df5[\"AFTER_REF\"]=(df5[\"TS\"]>df5[\"REF_TS\"])\n",
    "print(df5.dtypes)\n",
    "df5"
   ]
  },
  {
   "cell_type": "markdown",
   "metadata": {},
   "source": [
    "# ⑦ タイムスタンプの加算減算\n",
    "![image.png](https://qiita-image-store.s3.ap-northeast-1.amazonaws.com/0/223763/2f25e542-fdb3-2389-254e-d32b20aff0dd.png)\n"
   ]
  },
  {
   "cell_type": "code",
   "execution_count": 10,
   "metadata": {
    "scrolled": false
   },
   "outputs": [
    {
     "name": "stdout",
     "output_type": "stream",
     "text": [
      "TS             datetime64[ns]\n",
      "Power                   int64\n",
      "Temperature             int64\n",
      "Pressure                int64\n",
      "Uptime                  int64\n",
      "Status                  int64\n",
      "Outcome                 int64\n",
      "3H_AFTER       datetime64[ns]\n",
      "dtype: object\n"
     ]
    },
    {
     "data": {
      "text/html": [
       "<div>\n",
       "<style scoped>\n",
       "    .dataframe tbody tr th:only-of-type {\n",
       "        vertical-align: middle;\n",
       "    }\n",
       "\n",
       "    .dataframe tbody tr th {\n",
       "        vertical-align: top;\n",
       "    }\n",
       "\n",
       "    .dataframe thead th {\n",
       "        text-align: right;\n",
       "    }\n",
       "</style>\n",
       "<table border=\"1\" class=\"dataframe\">\n",
       "  <thead>\n",
       "    <tr style=\"text-align: right;\">\n",
       "      <th></th>\n",
       "      <th>TS</th>\n",
       "      <th>Power</th>\n",
       "      <th>Temperature</th>\n",
       "      <th>Pressure</th>\n",
       "      <th>Uptime</th>\n",
       "      <th>Status</th>\n",
       "      <th>Outcome</th>\n",
       "      <th>3H_AFTER</th>\n",
       "    </tr>\n",
       "  </thead>\n",
       "  <tbody>\n",
       "    <tr>\n",
       "      <th>0</th>\n",
       "      <td>2021-04-01 03:10:00</td>\n",
       "      <td>1079</td>\n",
       "      <td>308</td>\n",
       "      <td>0</td>\n",
       "      <td>3</td>\n",
       "      <td>0</td>\n",
       "      <td>202</td>\n",
       "      <td>2021-04-01 06:10:00</td>\n",
       "    </tr>\n",
       "    <tr>\n",
       "      <th>1</th>\n",
       "      <td>2021-04-01 03:11:00</td>\n",
       "      <td>1083</td>\n",
       "      <td>308</td>\n",
       "      <td>0</td>\n",
       "      <td>3</td>\n",
       "      <td>0</td>\n",
       "      <td>202</td>\n",
       "      <td>2021-04-01 06:11:00</td>\n",
       "    </tr>\n",
       "    <tr>\n",
       "      <th>2</th>\n",
       "      <td>2021-04-01 03:12:00</td>\n",
       "      <td>1080</td>\n",
       "      <td>309</td>\n",
       "      <td>0</td>\n",
       "      <td>3</td>\n",
       "      <td>0</td>\n",
       "      <td>202</td>\n",
       "      <td>2021-04-01 06:12:00</td>\n",
       "    </tr>\n",
       "    <tr>\n",
       "      <th>3</th>\n",
       "      <td>2021-04-01 03:13:00</td>\n",
       "      <td>1080</td>\n",
       "      <td>309</td>\n",
       "      <td>0</td>\n",
       "      <td>3</td>\n",
       "      <td>0</td>\n",
       "      <td>202</td>\n",
       "      <td>2021-04-01 06:13:00</td>\n",
       "    </tr>\n",
       "  </tbody>\n",
       "</table>\n",
       "</div>"
      ],
      "text/plain": [
       "                   TS  Power  Temperature  Pressure  Uptime  Status  Outcome  \\\n",
       "0 2021-04-01 03:10:00   1079          308         0       3       0      202   \n",
       "1 2021-04-01 03:11:00   1083          308         0       3       0      202   \n",
       "2 2021-04-01 03:12:00   1080          309         0       3       0      202   \n",
       "3 2021-04-01 03:13:00   1080          309         0       3       0      202   \n",
       "\n",
       "             3H_AFTER  \n",
       "0 2021-04-01 06:10:00  \n",
       "1 2021-04-01 06:11:00  \n",
       "2 2021-04-01 06:12:00  \n",
       "3 2021-04-01 06:13:00  "
      ]
     },
     "execution_count": 10,
     "metadata": {},
     "output_type": "execute_result"
    }
   ],
   "source": [
    "import datetime\n",
    "df5=df.copy()\n",
    "\n",
    "df5['3H_AFTER']=df5[\"TS\"]+ datetime.timedelta(hours=3)\n",
    "#以下でも実現は可能\n",
    "#df5['3H_AFTER']=df5[\"TS\"]+ np.timedelta64(3,'h')\n",
    "print(df5.dtypes)\n",
    "df5"
   ]
  },
  {
   "cell_type": "code",
   "execution_count": 11,
   "metadata": {},
   "outputs": [
    {
     "name": "stdout",
     "output_type": "stream",
     "text": [
      "3.8.5 (default, Sep  3 2020, 21:29:08) [MSC v.1916 64 bit (AMD64)]\n"
     ]
    }
   ],
   "source": [
    "import sys\n",
    "\n",
    "print(sys.version)"
   ]
  },
  {
   "cell_type": "code",
   "execution_count": 12,
   "metadata": {},
   "outputs": [
    {
     "name": "stdout",
     "output_type": "stream",
     "text": [
      "1.0.5\n"
     ]
    }
   ],
   "source": [
    "print(pd.__version__)"
   ]
  },
  {
   "cell_type": "code",
   "execution_count": 13,
   "metadata": {},
   "outputs": [
    {
     "name": "stdout",
     "output_type": "stream",
     "text": [
      "1.19.2\n"
     ]
    }
   ],
   "source": [
    "print(np.__version__)"
   ]
  },
  {
   "cell_type": "code",
   "execution_count": null,
   "metadata": {},
   "outputs": [],
   "source": []
  }
 ],
 "metadata": {
  "kernelspec": {
   "display_name": "Python 3",
   "language": "python",
   "name": "python3"
  },
  "language_info": {
   "codemirror_mode": {
    "name": "ipython",
    "version": 3
   },
   "file_extension": ".py",
   "mimetype": "text/x-python",
   "name": "python",
   "nbconvert_exporter": "python",
   "pygments_lexer": "ipython3",
   "version": "3.8.5"
  }
 },
 "nbformat": 4,
 "nbformat_minor": 1
}
